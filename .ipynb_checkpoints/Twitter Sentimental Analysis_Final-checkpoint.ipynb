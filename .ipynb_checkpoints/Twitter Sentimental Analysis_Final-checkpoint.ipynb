{
 "cells": [
  {
   "cell_type": "markdown",
   "metadata": {},
   "source": [
    "# Query based Sentiment Analysis using Python"
   ]
  },
  {
   "cell_type": "code",
   "execution_count": 1,
   "metadata": {},
   "outputs": [],
   "source": [
    "# General:\n",
    "import tweepy           # To consume Twitter's API\n",
    "import pandas as pd     # To handle data\n",
    "import numpy as np      # For number computing\n",
    "\n",
    "# For plotting and visualization:\n",
    "from IPython.display import display\n",
    "import matplotlib.pyplot as plt\n",
    "import seaborn as sns\n",
    "%matplotlib inline"
   ]
  },
  {
   "cell_type": "markdown",
   "metadata": {},
   "source": [
    "# Creating a Twitter App"
   ]
  },
  {
   "cell_type": "code",
   "execution_count": 2,
   "metadata": {},
   "outputs": [],
   "source": [
    "# Twitter App access keys for @user\n",
    "\n",
    "# Consume:\n",
    "CONSUMER_KEY    = 'yzxNyCyjkVJJrpNY0L3AphSVV'\n",
    "CONSUMER_SECRET = 'e7xhbuIqTM520PCtwGrSrSIXWyrQbH7ckr9s0ToOlQE6tek4OP'\n",
    "\n",
    "# Access:\n",
    "ACCESS_TOKEN  = '2186056028-BPexxHqPrML7hcvwIuLfX3itD8IZPqguuksDHtn'\n",
    "ACCESS_SECRET = 'vvhbgIqa7jK5nBAO9P4Mh1MTFvJdWH3Fl5bbzGhai9Dah'"
   ]
  },
  {
   "cell_type": "code",
   "execution_count": 3,
   "metadata": {},
   "outputs": [],
   "source": [
    "# We import our access keys:\n",
    "from credentials import *    # This will allow us to use the keys as variables\n",
    "\n",
    "# API's setup:\n",
    "def twitter_setup():\n",
    "    \"\"\"\n",
    "    Utility function to setup the Twitter's API\n",
    "    with our access keys provided.\n",
    "    \"\"\"\n",
    "    # Authentication and access using keys:\n",
    "    auth = tweepy.OAuthHandler(CONSUMER_KEY, CONSUMER_SECRET)\n",
    "    auth.set_access_token(ACCESS_TOKEN, ACCESS_SECRET)\n",
    "\n",
    "    # Return API with authentication:\n",
    "    api = tweepy.API(auth)\n",
    "    return api"
   ]
  },
  {
   "cell_type": "code",
   "execution_count": 4,
   "metadata": {},
   "outputs": [
    {
     "name": "stdout",
     "output_type": "stream",
     "text": [
      "#LaAcademia\n",
      "Nordeste\n",
      "#الرياض_الان\n",
      "#SpaceX\n",
      "#LaVozMexico\n",
      "#FicaTemer\n",
      "Taylor Swift\n",
      "Jason Garrett\n",
      "Alexandre Frota\n",
      "Romero Jucá\n",
      "体育の日\n",
      "Câmara\n",
      "JJ Watt\n",
      "Max Muncy\n",
      "NFC East\n",
      "Bolsonaro e Haddad\n",
      "Matías Almeyda\n",
      "#MondayMotivation\n",
      "#CyberMondayCL\n",
      "#AirForceDay\n",
      "#Texans\n",
      "#TheWalkingDead\n",
      "#ChopOn\n",
      "#افضل_هديه_جتك\n",
      "#pazartesi\n",
      "#AgoraÉHaddad\n",
      "#TWD9naFOX\n",
      "#ConsequencesMidnightTomorrow\n",
      "#مرات_شعوري_يحتاج\n",
      "#PasapalabraCHV\n",
      "#PrayForBrazil\n",
      "#اشياء_ماتكرر\n",
      "#FelizLunes\n",
      "#IPCC\n",
      "#Mahalaya\n",
      "#技術書典\n",
      "#이_해시를_보면_무조건_프사캐입\n",
      "#彼氏からの予測変換でリア充がバレる\n",
      "#出雲駅伝\n",
      "#EnSuPropiaTrampa\n",
      "#世代がバレる系ボカロビンゴ2018\n",
      "#DeshBachaoYuvaBachao\n",
      "#SpeechlessOnSpotify\n",
      "#SegundaDetremuraSDV\n",
      "#90DayFiance\n"
     ]
    }
   ],
   "source": [
    "extractor = twitter_setup()\n",
    "trends1 = extractor.trends_place(1) # from the end of your code\n",
    "# trends1 is a list with only one element in it, which is a \n",
    "# dict which we'll put in data.\n",
    "data = trends1[0] \n",
    "# grab the trends\n",
    "trends = data['trends']\n",
    "# grab the name from each trend\n",
    "names = [trend['name'] for trend in trends]\n",
    "# put all the names together with a ' ' separating them\n",
    "trendsName = \"\\n\".join(names)\n",
    "print(trendsName)"
   ]
  },
  {
   "cell_type": "code",
   "execution_count": 5,
   "metadata": {},
   "outputs": [],
   "source": [
    "query=\"SpaceX\" # Enter user or query"
   ]
  },
  {
   "cell_type": "code",
   "execution_count": 6,
   "metadata": {},
   "outputs": [
    {
     "name": "stdout",
     "output_type": "stream",
     "text": [
      "Number of tweets extracted: 95.\n",
      "\n",
      "5 recent tweets:\n",
      "\n",
      "RT @BobBassen28: @EmilYunusov @SellBlock12 @elonmusk @_TomCross_ @SpaceX Really careful\n",
      "\n",
      "#spacex launch or alien invasion? Who knows? https://t.co/gpM0slCkYE\n",
      "\n",
      "RT @SamuelTsui: Ummm this @SpaceX display in the sky above Santa Monica right now is totally crazy and beautiful https://t.co/rDgeuItBpe\n",
      "\n",
      "RT @BobBassen28: @EmilYunusov @SellBlock12 @elonmusk @_TomCross_ @SpaceX Really careful\n",
      "\n",
      "RT @SpaceX: Liftoff! https://t.co/rzFcHcEvnA\n",
      "\n"
     ]
    }
   ],
   "source": [
    "# We create an extractor object:\n",
    "extractor = twitter_setup()\n",
    "\n",
    "# We create a tweet list based on query:\n",
    "tweets = extractor.search(q=query, count=100)\n",
    "\n",
    "# We create a tweet list based on user\n",
    "#tweets = extractor.user_timeline(screen_name=query, count=100)\n",
    "\n",
    "print(\"Number of tweets extracted: {}.\\n\".format(len(tweets)))\n",
    "\n",
    "# We print the most recent 5 tweets:\n",
    "print(\"5 recent tweets:\\n\")\n",
    "for tweet in tweets[:5]:\n",
    "    print(tweet.text)\n",
    "    print()"
   ]
  },
  {
   "cell_type": "code",
   "execution_count": 7,
   "metadata": {},
   "outputs": [
    {
     "data": {
      "text/html": [
       "<div>\n",
       "<style scoped>\n",
       "    .dataframe tbody tr th:only-of-type {\n",
       "        vertical-align: middle;\n",
       "    }\n",
       "\n",
       "    .dataframe tbody tr th {\n",
       "        vertical-align: top;\n",
       "    }\n",
       "\n",
       "    .dataframe thead th {\n",
       "        text-align: right;\n",
       "    }\n",
       "</style>\n",
       "<table border=\"1\" class=\"dataframe\">\n",
       "  <thead>\n",
       "    <tr style=\"text-align: right;\">\n",
       "      <th></th>\n",
       "      <th>Tweets</th>\n",
       "    </tr>\n",
       "  </thead>\n",
       "  <tbody>\n",
       "    <tr>\n",
       "      <th>0</th>\n",
       "      <td>RT @BobBassen28: @EmilYunusov @SellBlock12 @el...</td>\n",
       "    </tr>\n",
       "    <tr>\n",
       "      <th>1</th>\n",
       "      <td>#spacex launch or alien invasion? Who knows? h...</td>\n",
       "    </tr>\n",
       "    <tr>\n",
       "      <th>2</th>\n",
       "      <td>RT @SamuelTsui: Ummm this @SpaceX display in t...</td>\n",
       "    </tr>\n",
       "    <tr>\n",
       "      <th>3</th>\n",
       "      <td>RT @BobBassen28: @EmilYunusov @SellBlock12 @el...</td>\n",
       "    </tr>\n",
       "    <tr>\n",
       "      <th>4</th>\n",
       "      <td>RT @SpaceX: Liftoff! https://t.co/rzFcHcEvnA</td>\n",
       "    </tr>\n",
       "    <tr>\n",
       "      <th>5</th>\n",
       "      <td>RT @WhoIsGev: #SpaceX yo this was cool https:/...</td>\n",
       "    </tr>\n",
       "    <tr>\n",
       "      <th>6</th>\n",
       "      <td>SpaceX Achieves First West Coast Falcon 9 Land...</td>\n",
       "    </tr>\n",
       "    <tr>\n",
       "      <th>7</th>\n",
       "      <td>RT @BobBassen28: @EmilYunusov @SellBlock12 @el...</td>\n",
       "    </tr>\n",
       "    <tr>\n",
       "      <th>8</th>\n",
       "      <td>RT @leticiaVShep: @1Jesse1Sandoval https://t.c...</td>\n",
       "    </tr>\n",
       "    <tr>\n",
       "      <th>9</th>\n",
       "      <td>RT @KTVU: VIDEO: SpaceX Falcon 9 launches from...</td>\n",
       "    </tr>\n",
       "  </tbody>\n",
       "</table>\n",
       "</div>"
      ],
      "text/plain": [
       "                                              Tweets\n",
       "0  RT @BobBassen28: @EmilYunusov @SellBlock12 @el...\n",
       "1  #spacex launch or alien invasion? Who knows? h...\n",
       "2  RT @SamuelTsui: Ummm this @SpaceX display in t...\n",
       "3  RT @BobBassen28: @EmilYunusov @SellBlock12 @el...\n",
       "4       RT @SpaceX: Liftoff! https://t.co/rzFcHcEvnA\n",
       "5  RT @WhoIsGev: #SpaceX yo this was cool https:/...\n",
       "6  SpaceX Achieves First West Coast Falcon 9 Land...\n",
       "7  RT @BobBassen28: @EmilYunusov @SellBlock12 @el...\n",
       "8  RT @leticiaVShep: @1Jesse1Sandoval https://t.c...\n",
       "9  RT @KTVU: VIDEO: SpaceX Falcon 9 launches from..."
      ]
     },
     "metadata": {},
     "output_type": "display_data"
    }
   ],
   "source": [
    "# We create a pandas dataframe as follows:\n",
    "data = pd.DataFrame(data=[tweet.text for tweet in tweets], columns=['Tweets'])\n",
    "\n",
    "# We display the first 10 elements of the dataframe:\n",
    "display(data.head(10))"
   ]
  },
  {
   "cell_type": "code",
   "execution_count": 8,
   "metadata": {},
   "outputs": [
    {
     "name": "stdout",
     "output_type": "stream",
     "text": [
      "['__class__', '__delattr__', '__dict__', '__dir__', '__doc__', '__eq__', '__format__', '__ge__', '__getattribute__', '__getstate__', '__gt__', '__hash__', '__init__', '__le__', '__lt__', '__module__', '__ne__', '__new__', '__reduce__', '__reduce_ex__', '__repr__', '__setattr__', '__sizeof__', '__str__', '__subclasshook__', '__weakref__', '_api', '_json', 'author', 'contributors', 'coordinates', 'created_at', 'destroy', 'entities', 'favorite', 'favorite_count', 'favorited', 'geo', 'id', 'id_str', 'in_reply_to_screen_name', 'in_reply_to_status_id', 'in_reply_to_status_id_str', 'in_reply_to_user_id', 'in_reply_to_user_id_str', 'is_quote_status', 'lang', 'metadata', 'parse', 'parse_list', 'place', 'retweet', 'retweet_count', 'retweeted', 'retweeted_status', 'retweets', 'source', 'source_url', 'text', 'truncated', 'user']\n"
     ]
    }
   ],
   "source": [
    "# Internal methods of a single tweet object:\n",
    "print(dir(tweets[0]))"
   ]
  },
  {
   "cell_type": "markdown",
   "metadata": {},
   "source": [
    "# Adding relevant info to our dataframe"
   ]
  },
  {
   "cell_type": "code",
   "execution_count": 9,
   "metadata": {},
   "outputs": [],
   "source": [
    "# We add relevant data:\n",
    "data['len']  = np.array([len(tweet.text) for tweet in tweets])\n",
    "data['ID']   = np.array([tweet.id for tweet in tweets])\n",
    "data['Date'] = np.array([tweet.created_at for tweet in tweets])\n",
    "data['Source'] = np.array([tweet.source for tweet in tweets])\n",
    "data['Likes']  = np.array([tweet.favorite_count for tweet in tweets])\n",
    "data['RTs']    = np.array([tweet.retweet_count for tweet in tweets])\n",
    "data['Language'] = np.array([tweet.lang for tweet in tweets])\n"
   ]
  },
  {
   "cell_type": "code",
   "execution_count": 10,
   "metadata": {},
   "outputs": [
    {
     "data": {
      "text/html": [
       "<div>\n",
       "<style scoped>\n",
       "    .dataframe tbody tr th:only-of-type {\n",
       "        vertical-align: middle;\n",
       "    }\n",
       "\n",
       "    .dataframe tbody tr th {\n",
       "        vertical-align: top;\n",
       "    }\n",
       "\n",
       "    .dataframe thead th {\n",
       "        text-align: right;\n",
       "    }\n",
       "</style>\n",
       "<table border=\"1\" class=\"dataframe\">\n",
       "  <thead>\n",
       "    <tr style=\"text-align: right;\">\n",
       "      <th></th>\n",
       "      <th>Tweets</th>\n",
       "      <th>len</th>\n",
       "      <th>ID</th>\n",
       "      <th>Date</th>\n",
       "      <th>Source</th>\n",
       "      <th>Likes</th>\n",
       "      <th>RTs</th>\n",
       "      <th>Language</th>\n",
       "    </tr>\n",
       "  </thead>\n",
       "  <tbody>\n",
       "    <tr>\n",
       "      <th>0</th>\n",
       "      <td>RT @BobBassen28: @EmilYunusov @SellBlock12 @el...</td>\n",
       "      <td>87</td>\n",
       "      <td>1049171558453989377</td>\n",
       "      <td>2018-10-08 05:36:06</td>\n",
       "      <td>Kim Bakıyor Ki</td>\n",
       "      <td>0</td>\n",
       "      <td>62</td>\n",
       "      <td>en</td>\n",
       "    </tr>\n",
       "    <tr>\n",
       "      <th>1</th>\n",
       "      <td>#spacex launch or alien invasion? Who knows? h...</td>\n",
       "      <td>68</td>\n",
       "      <td>1049171555408699393</td>\n",
       "      <td>2018-10-08 05:36:06</td>\n",
       "      <td>Twitter for iPhone</td>\n",
       "      <td>0</td>\n",
       "      <td>0</td>\n",
       "      <td>en</td>\n",
       "    </tr>\n",
       "    <tr>\n",
       "      <th>2</th>\n",
       "      <td>RT @SamuelTsui: Ummm this @SpaceX display in t...</td>\n",
       "      <td>136</td>\n",
       "      <td>1049171554226114561</td>\n",
       "      <td>2018-10-08 05:36:05</td>\n",
       "      <td>Twitter for iPhone</td>\n",
       "      <td>0</td>\n",
       "      <td>612</td>\n",
       "      <td>en</td>\n",
       "    </tr>\n",
       "    <tr>\n",
       "      <th>3</th>\n",
       "      <td>RT @BobBassen28: @EmilYunusov @SellBlock12 @el...</td>\n",
       "      <td>87</td>\n",
       "      <td>1049171553882202112</td>\n",
       "      <td>2018-10-08 05:36:05</td>\n",
       "      <td>Kim Bakıyor Ki</td>\n",
       "      <td>0</td>\n",
       "      <td>62</td>\n",
       "      <td>en</td>\n",
       "    </tr>\n",
       "    <tr>\n",
       "      <th>4</th>\n",
       "      <td>RT @SpaceX: Liftoff! https://t.co/rzFcHcEvnA</td>\n",
       "      <td>44</td>\n",
       "      <td>1049171553571807232</td>\n",
       "      <td>2018-10-08 05:36:05</td>\n",
       "      <td>Twitter for iPhone</td>\n",
       "      <td>0</td>\n",
       "      <td>3185</td>\n",
       "      <td>en</td>\n",
       "    </tr>\n",
       "    <tr>\n",
       "      <th>5</th>\n",
       "      <td>RT @WhoIsGev: #SpaceX yo this was cool https:/...</td>\n",
       "      <td>62</td>\n",
       "      <td>1049171544138702850</td>\n",
       "      <td>2018-10-08 05:36:03</td>\n",
       "      <td>Twitter for Android</td>\n",
       "      <td>0</td>\n",
       "      <td>2598</td>\n",
       "      <td>en</td>\n",
       "    </tr>\n",
       "    <tr>\n",
       "      <th>6</th>\n",
       "      <td>SpaceX Achieves First West Coast Falcon 9 Land...</td>\n",
       "      <td>73</td>\n",
       "      <td>1049171542616158213</td>\n",
       "      <td>2018-10-08 05:36:03</td>\n",
       "      <td>dlvr.it</td>\n",
       "      <td>0</td>\n",
       "      <td>0</td>\n",
       "      <td>en</td>\n",
       "    </tr>\n",
       "    <tr>\n",
       "      <th>7</th>\n",
       "      <td>RT @BobBassen28: @EmilYunusov @SellBlock12 @el...</td>\n",
       "      <td>87</td>\n",
       "      <td>1049171540347179008</td>\n",
       "      <td>2018-10-08 05:36:02</td>\n",
       "      <td>Kim Bakıyor Ki</td>\n",
       "      <td>0</td>\n",
       "      <td>62</td>\n",
       "      <td>en</td>\n",
       "    </tr>\n",
       "    <tr>\n",
       "      <th>8</th>\n",
       "      <td>RT @leticiaVShep: @1Jesse1Sandoval https://t.c...</td>\n",
       "      <td>58</td>\n",
       "      <td>1049171539373879301</td>\n",
       "      <td>2018-10-08 05:36:02</td>\n",
       "      <td>Twitter for Android</td>\n",
       "      <td>0</td>\n",
       "      <td>1</td>\n",
       "      <td>und</td>\n",
       "    </tr>\n",
       "    <tr>\n",
       "      <th>9</th>\n",
       "      <td>RT @KTVU: VIDEO: SpaceX Falcon 9 launches from...</td>\n",
       "      <td>140</td>\n",
       "      <td>1049171537738194944</td>\n",
       "      <td>2018-10-08 05:36:01</td>\n",
       "      <td>Twitter for iPhone</td>\n",
       "      <td>0</td>\n",
       "      <td>33</td>\n",
       "      <td>en</td>\n",
       "    </tr>\n",
       "  </tbody>\n",
       "</table>\n",
       "</div>"
      ],
      "text/plain": [
       "                                              Tweets  len  \\\n",
       "0  RT @BobBassen28: @EmilYunusov @SellBlock12 @el...   87   \n",
       "1  #spacex launch or alien invasion? Who knows? h...   68   \n",
       "2  RT @SamuelTsui: Ummm this @SpaceX display in t...  136   \n",
       "3  RT @BobBassen28: @EmilYunusov @SellBlock12 @el...   87   \n",
       "4       RT @SpaceX: Liftoff! https://t.co/rzFcHcEvnA   44   \n",
       "5  RT @WhoIsGev: #SpaceX yo this was cool https:/...   62   \n",
       "6  SpaceX Achieves First West Coast Falcon 9 Land...   73   \n",
       "7  RT @BobBassen28: @EmilYunusov @SellBlock12 @el...   87   \n",
       "8  RT @leticiaVShep: @1Jesse1Sandoval https://t.c...   58   \n",
       "9  RT @KTVU: VIDEO: SpaceX Falcon 9 launches from...  140   \n",
       "\n",
       "                    ID                Date               Source  Likes   RTs  \\\n",
       "0  1049171558453989377 2018-10-08 05:36:06       Kim Bakıyor Ki      0    62   \n",
       "1  1049171555408699393 2018-10-08 05:36:06   Twitter for iPhone      0     0   \n",
       "2  1049171554226114561 2018-10-08 05:36:05   Twitter for iPhone      0   612   \n",
       "3  1049171553882202112 2018-10-08 05:36:05       Kim Bakıyor Ki      0    62   \n",
       "4  1049171553571807232 2018-10-08 05:36:05   Twitter for iPhone      0  3185   \n",
       "5  1049171544138702850 2018-10-08 05:36:03  Twitter for Android      0  2598   \n",
       "6  1049171542616158213 2018-10-08 05:36:03              dlvr.it      0     0   \n",
       "7  1049171540347179008 2018-10-08 05:36:02       Kim Bakıyor Ki      0    62   \n",
       "8  1049171539373879301 2018-10-08 05:36:02  Twitter for Android      0     1   \n",
       "9  1049171537738194944 2018-10-08 05:36:01   Twitter for iPhone      0    33   \n",
       "\n",
       "  Language  \n",
       "0       en  \n",
       "1       en  \n",
       "2       en  \n",
       "3       en  \n",
       "4       en  \n",
       "5       en  \n",
       "6       en  \n",
       "7       en  \n",
       "8      und  \n",
       "9       en  "
      ]
     },
     "metadata": {},
     "output_type": "display_data"
    }
   ],
   "source": [
    "# Display of first 10 elements from dataframe:\n",
    "display(data.head(10))"
   ]
  },
  {
   "cell_type": "code",
   "execution_count": 11,
   "metadata": {},
   "outputs": [
    {
     "name": "stdout",
     "output_type": "stream",
     "text": [
      "The lenght's average in tweets: 96.16842105263157\n"
     ]
    }
   ],
   "source": [
    "# We extract the mean of lenghts:\n",
    "mean = np.mean(data['len'])\n",
    "\n",
    "print(\"The lenght's average in tweets: {}\".format(mean))"
   ]
  },
  {
   "cell_type": "code",
   "execution_count": 12,
   "metadata": {},
   "outputs": [
    {
     "data": {
      "text/plain": [
       "<matplotlib.axes._subplots.AxesSubplot at 0x1a0f66b6d8>"
      ]
     },
     "execution_count": 12,
     "metadata": {},
     "output_type": "execute_result"
    },
    {
     "data": {
      "image/png": "[encoded data removed]",
      "text/plain": [
       "<Figure size 432x288 with 1 Axes>"
      ]
     },
     "metadata": {},
     "output_type": "display_data"
    }
   ],
   "source": [
    "tweets_by_lang = data['Language'].value_counts()\n",
    "\n",
    "fig, ax = plt.subplots()\n",
    "ax.tick_params(axis='x', labelsize=15)\n",
    "ax.tick_params(axis='y', labelsize=10)\n",
    "ax.set_xlabel('Languages', fontsize=15)\n",
    "ax.set_ylabel('Number of tweets' , fontsize=15)\n",
    "ax.set_title('Top 5 languages', fontsize=15, fontweight='bold')\n",
    "tweets_by_lang[:5].plot(ax=ax, kind='bar', color='red')"
   ]
  },
  {
   "cell_type": "code",
   "execution_count": 13,
   "metadata": {},
   "outputs": [
    {
     "name": "stdout",
     "output_type": "stream",
     "text": [
      "The tweet with more likes is: \n",
      "RT @BobBassen28: @EmilYunusov @SellBlock12 @elonmusk @_TomCross_ @SpaceX Really careful\n",
      "Number of likes: 0\n",
      "87 characters.\n",
      "\n",
      "The tweet with more retweets is: \n",
      "RT @jarrettzackary1: They’re saying it’s a #SpaceX launch, but we all know what’s really going on... https://t.co/wxfadjOUMn\n",
      "Number of retweets: 5592\n",
      "124 characters.\n",
      "\n"
     ]
    }
   ],
   "source": [
    "# We extract the tweet with more FAVs and more RTs:\n",
    "\n",
    "fav_max = np.max(data['Likes'])\n",
    "rt_max  = np.max(data['RTs'])\n",
    "\n",
    "fav = data[data.Likes == fav_max].index[0]\n",
    "rt  = data[data.RTs == rt_max].index[0]\n",
    "\n",
    "# Max FAVs:\n",
    "print(\"The tweet with more likes is: \\n{}\".format(data['Tweets'][fav]))\n",
    "print(\"Number of likes: {}\".format(fav_max))\n",
    "print(\"{} characters.\\n\".format(data['len'][fav]))\n",
    "\n",
    "# Max RTs:\n",
    "print(\"The tweet with more retweets is: \\n{}\".format(data['Tweets'][rt]))\n",
    "print(\"Number of retweets: {}\".format(rt_max))\n",
    "print(\"{} characters.\\n\".format(data['len'][rt]))"
   ]
  },
  {
   "cell_type": "markdown",
   "metadata": {},
   "source": [
    "# Time series of Tweets"
   ]
  },
  {
   "cell_type": "code",
   "execution_count": 14,
   "metadata": {},
   "outputs": [],
   "source": [
    "# We create time series for data:\n",
    "\n",
    "tlen = pd.Series(data=data['len'].values, index=data['Date'])\n",
    "tfav = pd.Series(data=data['Likes'].values, index=data['Date'])\n",
    "tret = pd.Series(data=data['RTs'].values, index=data['Date'])"
   ]
  },
  {
   "cell_type": "code",
   "execution_count": 15,
   "metadata": {},
   "outputs": [
    {
     "data": {
      "image/png": "[encoded data removed]",
      "text/plain": [
       "<Figure size 1152x288 with 1 Axes>"
      ]
     },
     "metadata": {},
     "output_type": "display_data"
    }
   ],
   "source": [
    "# Lenghts along time:\n",
    "tlen.plot(figsize=(16,4), color='r');"
   ]
  },
  {
   "cell_type": "code",
   "execution_count": 16,
   "metadata": {},
   "outputs": [
    {
     "data": {
      "image/png": "[encoded data removed]",
      "text/plain": [
       "<Figure size 1152x288 with 1 Axes>"
      ]
     },
     "metadata": {},
     "output_type": "display_data"
    }
   ],
   "source": [
    "# Likes vs retweets visualization:\n",
    "tfav.plot(figsize=(16,4), label=\"Likes\", legend=True)\n",
    "tret.plot(figsize=(16,4), label=\"Retweets\", legend=True);"
   ]
  },
  {
   "cell_type": "markdown",
   "metadata": {},
   "source": [
    "# Pie charts of sources"
   ]
  },
  {
   "cell_type": "code",
   "execution_count": 17,
   "metadata": {},
   "outputs": [
    {
     "name": "stdout",
     "output_type": "stream",
     "text": [
      "Creation of content sources:\n",
      "* Kim Bakıyor Ki\n",
      "* Twitter for iPhone\n",
      "* Twitter for Android\n",
      "* dlvr.it\n",
      "* Twitter for iPad\n",
      "* Twitter Web Client\n",
      "* Youtube Analiytc V11.2\n",
      "* Hootsuite\n",
      "* Instagram\n",
      "* Twitter Lite\n",
      "* Tweetbot for Mac\n"
     ]
    }
   ],
   "source": [
    "# We obtain all possible sources:\n",
    "sources = []\n",
    "for source in data['Source']:\n",
    "    if source not in sources:\n",
    "        sources.append(source)\n",
    "\n",
    "# We print sources list:\n",
    "print(\"Creation of content sources:\")\n",
    "for source in sources:\n",
    "    print(\"* {}\".format(source))"
   ]
  },
  {
   "cell_type": "code",
   "execution_count": 18,
   "metadata": {},
   "outputs": [
    {
     "data": {
      "image/png": "[encoded data removed]",
      "text/plain": [
       "<Figure size 720x576 with 1 Axes>"
      ]
     },
     "metadata": {},
     "output_type": "display_data"
    }
   ],
   "source": [
    "# We create a numpy vector mapped to labels:\n",
    "percent = np.zeros(len(sources))\n",
    "\n",
    "for source in data['Source']:\n",
    "    for index in range(len(sources)):\n",
    "        if source == sources[index]:\n",
    "            percent[index] += 1\n",
    "            pass\n",
    "\n",
    "percent /= 100\n",
    "\n",
    "# Pie chart:\n",
    "pie_chart = pd.Series(percent, index=sources, name='Sources')\n",
    "pie_chart.plot.pie(fontsize=11, autopct='%.2f', figsize=(10,8));"
   ]
  },
  {
   "cell_type": "markdown",
   "metadata": {},
   "source": [
    "# Sentiment analysis"
   ]
  },
  {
   "cell_type": "code",
   "execution_count": 19,
   "metadata": {},
   "outputs": [],
   "source": [
    "from textblob import TextBlob\n",
    "import re\n",
    "\n",
    "def clean_tweet(tweet):\n",
    "    '''\n",
    "    Utility function to clean the text in a tweet by removing \n",
    "    links and special characters using regex.\n",
    "    '''\n",
    "    return ' '.join(re.sub(\"(@[A-Za-z0-9]+)|([^0-9A-Za-z \\t])|(\\w+:\\/\\/\\S+)\", \" \", tweet).split())\n",
    "\n",
    "def analize_sentiment(tweet):\n",
    "    '''\n",
    "    Utility function to classify the polarity of a tweet\n",
    "    using textblob.\n",
    "    '''\n",
    "    analysis = TextBlob(clean_tweet(tweet))\n",
    "    if analysis.sentiment.polarity > 0:\n",
    "        return 1\n",
    "    elif analysis.sentiment.polarity == 0:\n",
    "        return 0\n",
    "    else:\n",
    "        return -1"
   ]
  },
  {
   "cell_type": "code",
   "execution_count": 20,
   "metadata": {},
   "outputs": [
    {
     "data": {
      "text/html": [
       "<div>\n",
       "<style scoped>\n",
       "    .dataframe tbody tr th:only-of-type {\n",
       "        vertical-align: middle;\n",
       "    }\n",
       "\n",
       "    .dataframe tbody tr th {\n",
       "        vertical-align: top;\n",
       "    }\n",
       "\n",
       "    .dataframe thead th {\n",
       "        text-align: right;\n",
       "    }\n",
       "</style>\n",
       "<table border=\"1\" class=\"dataframe\">\n",
       "  <thead>\n",
       "    <tr style=\"text-align: right;\">\n",
       "      <th></th>\n",
       "      <th>Tweets</th>\n",
       "      <th>len</th>\n",
       "      <th>ID</th>\n",
       "      <th>Date</th>\n",
       "      <th>Source</th>\n",
       "      <th>Likes</th>\n",
       "      <th>RTs</th>\n",
       "      <th>Language</th>\n",
       "      <th>SA</th>\n",
       "    </tr>\n",
       "  </thead>\n",
       "  <tbody>\n",
       "    <tr>\n",
       "      <th>0</th>\n",
       "      <td>RT @BobBassen28: @EmilYunusov @SellBlock12 @el...</td>\n",
       "      <td>87</td>\n",
       "      <td>1049171558453989377</td>\n",
       "      <td>2018-10-08 05:36:06</td>\n",
       "      <td>Kim Bakıyor Ki</td>\n",
       "      <td>0</td>\n",
       "      <td>62</td>\n",
       "      <td>en</td>\n",
       "      <td>-1</td>\n",
       "    </tr>\n",
       "    <tr>\n",
       "      <th>1</th>\n",
       "      <td>#spacex launch or alien invasion? Who knows? h...</td>\n",
       "      <td>68</td>\n",
       "      <td>1049171555408699393</td>\n",
       "      <td>2018-10-08 05:36:06</td>\n",
       "      <td>Twitter for iPhone</td>\n",
       "      <td>0</td>\n",
       "      <td>0</td>\n",
       "      <td>en</td>\n",
       "      <td>-1</td>\n",
       "    </tr>\n",
       "    <tr>\n",
       "      <th>2</th>\n",
       "      <td>RT @SamuelTsui: Ummm this @SpaceX display in t...</td>\n",
       "      <td>136</td>\n",
       "      <td>1049171554226114561</td>\n",
       "      <td>2018-10-08 05:36:05</td>\n",
       "      <td>Twitter for iPhone</td>\n",
       "      <td>0</td>\n",
       "      <td>612</td>\n",
       "      <td>en</td>\n",
       "      <td>1</td>\n",
       "    </tr>\n",
       "    <tr>\n",
       "      <th>3</th>\n",
       "      <td>RT @BobBassen28: @EmilYunusov @SellBlock12 @el...</td>\n",
       "      <td>87</td>\n",
       "      <td>1049171553882202112</td>\n",
       "      <td>2018-10-08 05:36:05</td>\n",
       "      <td>Kim Bakıyor Ki</td>\n",
       "      <td>0</td>\n",
       "      <td>62</td>\n",
       "      <td>en</td>\n",
       "      <td>-1</td>\n",
       "    </tr>\n",
       "    <tr>\n",
       "      <th>4</th>\n",
       "      <td>RT @SpaceX: Liftoff! https://t.co/rzFcHcEvnA</td>\n",
       "      <td>44</td>\n",
       "      <td>1049171553571807232</td>\n",
       "      <td>2018-10-08 05:36:05</td>\n",
       "      <td>Twitter for iPhone</td>\n",
       "      <td>0</td>\n",
       "      <td>3185</td>\n",
       "      <td>en</td>\n",
       "      <td>0</td>\n",
       "    </tr>\n",
       "    <tr>\n",
       "      <th>5</th>\n",
       "      <td>RT @WhoIsGev: #SpaceX yo this was cool https:/...</td>\n",
       "      <td>62</td>\n",
       "      <td>1049171544138702850</td>\n",
       "      <td>2018-10-08 05:36:03</td>\n",
       "      <td>Twitter for Android</td>\n",
       "      <td>0</td>\n",
       "      <td>2598</td>\n",
       "      <td>en</td>\n",
       "      <td>1</td>\n",
       "    </tr>\n",
       "    <tr>\n",
       "      <th>6</th>\n",
       "      <td>SpaceX Achieves First West Coast Falcon 9 Land...</td>\n",
       "      <td>73</td>\n",
       "      <td>1049171542616158213</td>\n",
       "      <td>2018-10-08 05:36:03</td>\n",
       "      <td>dlvr.it</td>\n",
       "      <td>0</td>\n",
       "      <td>0</td>\n",
       "      <td>en</td>\n",
       "      <td>1</td>\n",
       "    </tr>\n",
       "    <tr>\n",
       "      <th>7</th>\n",
       "      <td>RT @BobBassen28: @EmilYunusov @SellBlock12 @el...</td>\n",
       "      <td>87</td>\n",
       "      <td>1049171540347179008</td>\n",
       "      <td>2018-10-08 05:36:02</td>\n",
       "      <td>Kim Bakıyor Ki</td>\n",
       "      <td>0</td>\n",
       "      <td>62</td>\n",
       "      <td>en</td>\n",
       "      <td>-1</td>\n",
       "    </tr>\n",
       "    <tr>\n",
       "      <th>8</th>\n",
       "      <td>RT @leticiaVShep: @1Jesse1Sandoval https://t.c...</td>\n",
       "      <td>58</td>\n",
       "      <td>1049171539373879301</td>\n",
       "      <td>2018-10-08 05:36:02</td>\n",
       "      <td>Twitter for Android</td>\n",
       "      <td>0</td>\n",
       "      <td>1</td>\n",
       "      <td>und</td>\n",
       "      <td>0</td>\n",
       "    </tr>\n",
       "    <tr>\n",
       "      <th>9</th>\n",
       "      <td>RT @KTVU: VIDEO: SpaceX Falcon 9 launches from...</td>\n",
       "      <td>140</td>\n",
       "      <td>1049171537738194944</td>\n",
       "      <td>2018-10-08 05:36:01</td>\n",
       "      <td>Twitter for iPhone</td>\n",
       "      <td>0</td>\n",
       "      <td>33</td>\n",
       "      <td>en</td>\n",
       "      <td>0</td>\n",
       "    </tr>\n",
       "  </tbody>\n",
       "</table>\n",
       "</div>"
      ],
      "text/plain": [
       "                                              Tweets  len  \\\n",
       "0  RT @BobBassen28: @EmilYunusov @SellBlock12 @el...   87   \n",
       "1  #spacex launch or alien invasion? Who knows? h...   68   \n",
       "2  RT @SamuelTsui: Ummm this @SpaceX display in t...  136   \n",
       "3  RT @BobBassen28: @EmilYunusov @SellBlock12 @el...   87   \n",
       "4       RT @SpaceX: Liftoff! https://t.co/rzFcHcEvnA   44   \n",
       "5  RT @WhoIsGev: #SpaceX yo this was cool https:/...   62   \n",
       "6  SpaceX Achieves First West Coast Falcon 9 Land...   73   \n",
       "7  RT @BobBassen28: @EmilYunusov @SellBlock12 @el...   87   \n",
       "8  RT @leticiaVShep: @1Jesse1Sandoval https://t.c...   58   \n",
       "9  RT @KTVU: VIDEO: SpaceX Falcon 9 launches from...  140   \n",
       "\n",
       "                    ID                Date               Source  Likes   RTs  \\\n",
       "0  1049171558453989377 2018-10-08 05:36:06       Kim Bakıyor Ki      0    62   \n",
       "1  1049171555408699393 2018-10-08 05:36:06   Twitter for iPhone      0     0   \n",
       "2  1049171554226114561 2018-10-08 05:36:05   Twitter for iPhone      0   612   \n",
       "3  1049171553882202112 2018-10-08 05:36:05       Kim Bakıyor Ki      0    62   \n",
       "4  1049171553571807232 2018-10-08 05:36:05   Twitter for iPhone      0  3185   \n",
       "5  1049171544138702850 2018-10-08 05:36:03  Twitter for Android      0  2598   \n",
       "6  1049171542616158213 2018-10-08 05:36:03              dlvr.it      0     0   \n",
       "7  1049171540347179008 2018-10-08 05:36:02       Kim Bakıyor Ki      0    62   \n",
       "8  1049171539373879301 2018-10-08 05:36:02  Twitter for Android      0     1   \n",
       "9  1049171537738194944 2018-10-08 05:36:01   Twitter for iPhone      0    33   \n",
       "\n",
       "  Language  SA  \n",
       "0       en  -1  \n",
       "1       en  -1  \n",
       "2       en   1  \n",
       "3       en  -1  \n",
       "4       en   0  \n",
       "5       en   1  \n",
       "6       en   1  \n",
       "7       en  -1  \n",
       "8      und   0  \n",
       "9       en   0  "
      ]
     },
     "metadata": {},
     "output_type": "display_data"
    }
   ],
   "source": [
    "# We create a column with the result of the analysis:\n",
    "data['SA'] = np.array([ analize_sentiment(tweet) for tweet in data['Tweets'] ])\n",
    "\n",
    "# We display the updated dataframe with the new column:\n",
    "display(data.head(10))"
   ]
  },
  {
   "cell_type": "code",
   "execution_count": 21,
   "metadata": {},
   "outputs": [],
   "source": [
    "# We construct lists with classified tweets:\n",
    "\n",
    "pos_tweets = [ tweet for index, tweet in enumerate(data['Tweets']) if data['SA'][index] > 0]\n",
    "neu_tweets = [ tweet for index, tweet in enumerate(data['Tweets']) if data['SA'][index] == 0]\n",
    "neg_tweets = [ tweet for index, tweet in enumerate(data['Tweets']) if data['SA'][index] < 0]"
   ]
  },
  {
   "cell_type": "code",
   "execution_count": 22,
   "metadata": {},
   "outputs": [
    {
     "name": "stdout",
     "output_type": "stream",
     "text": [
      "Percentage of positive tweets: 33.68421052631579%\n",
      "Percentage of neutral tweets: 35.78947368421053%\n",
      "Percentage of negative tweets: 30.526315789473685%\n"
     ]
    }
   ],
   "source": [
    "# We print percentages:\n",
    "\n",
    "print(\"Percentage of positive tweets: {}%\".format(len(pos_tweets)*100/len(data['Tweets'])))\n",
    "print(\"Percentage of neutral tweets: {}%\".format(len(neu_tweets)*100/len(data['Tweets'])))\n",
    "print(\"Percentage of negative tweets: {}%\".format(len(neg_tweets)*100/len(data['Tweets'])))"
   ]
  },
  {
   "cell_type": "code",
   "execution_count": 23,
   "metadata": {},
   "outputs": [
    {
     "data": {
      "image/png": "[encoded data removed]",
      "text/plain": [
       "<Figure size 720x432 with 1 Axes>"
      ]
     },
     "metadata": {},
     "output_type": "display_data"
    }
   ],
   "source": [
    "\n",
    "# Data to plot\n",
    "labels = 'Positive Tweets', 'Neutral Tweets','Negative Tweets'\n",
    "sizes = [len(pos_tweets)*100/len(data['Tweets']), len(neu_tweets)*100/len(data['Tweets']), len(neg_tweets)*100/len(data['Tweets'])]\n",
    "colors = ['gold', 'yellowgreen', 'lightcoral']\n",
    "explode = (0.07, 0.07, 0.07)  # explode 1st slice\n",
    " \n",
    "# Plot\n",
    "plt.figure(figsize=(10,6))\n",
    "plt.pie(sizes, explode=explode, labels=labels, colors=colors,\n",
    "        autopct='%1.1f%%', shadow=True, startangle=140)\n",
    "plt.axis('equal')\n",
    "plt.show()"
   ]
  },
  {
   "cell_type": "code",
   "execution_count": null,
   "metadata": {},
   "outputs": [],
   "source": []
  }
 ],
 "metadata": {
  "kernelspec": {
   "display_name": "Python 3",
   "language": "python",
   "name": "python3"
  },
  "language_info": {
   "codemirror_mode": {
    "name": "ipython",
    "version": 3
   },
   "file_extension": ".py",
   "mimetype": "text/x-python",
   "name": "python",
   "nbconvert_exporter": "python",
   "pygments_lexer": "ipython3",
   "version": "3.5.5"
  }
 },
 "nbformat": 4,
 "nbformat_minor": 2
}
