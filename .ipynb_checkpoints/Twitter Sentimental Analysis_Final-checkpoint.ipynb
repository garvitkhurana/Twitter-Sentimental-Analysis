{
 "cells": [
  {
   "cell_type": "markdown",
   "metadata": {},
   "source": [
    "# Query based Sentiment Analysis using Python"
   ]
  },
  {
   "cell_type": "code",
   "execution_count": 1,
   "metadata": {},
   "outputs": [],
   "source": [
    "# General:\n",
    "import tweepy           # To consume Twitter's API\n",
    "import pandas as pd     # To handle data\n",
    "import numpy as np      # For number computing\n",
    "\n",
    "# For plotting and visualization:\n",
    "from IPython.display import display\n",
    "import matplotlib.pyplot as plt\n",
    "import seaborn as sns\n",
    "%matplotlib inline"
   ]
  },
  {
   "cell_type": "markdown",
   "metadata": {},
   "source": [
    "# Creating a Twitter App"
   ]
  },
  {
   "cell_type": "code",
   "execution_count": 2,
   "metadata": {},
   "outputs": [],
   "source": [
    "# Twitter App access keys for @user\n",
    "\n",
    "# Consume:\n",
    "CONSUMER_KEY    = 'yzxNyCyjkVJJrpNY0L3AphSVV'\n",
    "CONSUMER_SECRET = 'e7xhbuIqTM520PCtwGrSrSIXWyrQbH7ckr9s0ToOlQE6tek4OP'\n",
    "\n",
    "# Access:\n",
    "ACCESS_TOKEN  = '2186056028-BPexxHqPrML7hcvwIuLfX3itD8IZPqguuksDHtn'\n",
    "ACCESS_SECRET = 'vvhbgIqa7jK5nBAO9P4Mh1MTFvJdWH3Fl5bbzGhai9Dah'"
   ]
  },
  {
   "cell_type": "code",
   "execution_count": 5,
   "metadata": {},
   "outputs": [],
   "source": [
    "# We import our access keys:\n",
    "from credentials import *    # This will allow us to use the keys as variables\n",
    "\n",
    "# API's setup:\n",
    "def twitter_setup():\n",
    "    \"\"\"\n",
    "    Utility function to setup the Twitter's API\n",
    "    with our access keys provided.\n",
    "    \"\"\"\n",
    "    # Authentication and access using keys:\n",
    "    auth = tweepy.OAuthHandler(CONSUMER_KEY, CONSUMER_SECRET)\n",
    "    auth.set_access_token(ACCESS_TOKEN, ACCESS_SECRET)\n",
    "\n",
    "    # Return API with authentication:\n",
    "    api = tweepy.API(auth)\n",
    "    return api"
   ]
  },
  {
   "cell_type": "code",
   "execution_count": 9,
   "metadata": {},
   "outputs": [
    {
     "name": "stdout",
     "output_type": "stream",
     "text": [
      "#GandhiJayanti\n",
      "#FelizMartes\n",
      "#Riace\n",
      "#魔王適性\n",
      "#فطورك_المفضل\n",
      "프레이\n",
      "الاستخبارات الايرانيه\n",
      "AK Parti'den\n",
      "マナリアフレンズ\n",
      "이후 간식\n",
      "창세기전\n",
      "Роман Карцев\n",
      "제노스\n",
      "소아성애\n",
      "Resmi Gazete'de\n",
      "Ratna Sarumpaet\n",
      "Groucho Marx\n",
      "새우튀김\n",
      "Northern Samar\n",
      "#TuesdayThoughts\n",
      "#KisanKrantiYatra\n",
      "#2ottobre\n",
      "#yazsaati\n",
      "#paro\n",
      "#وش_افضل_تطبيق_تستخدمه\n",
      "#MardiConseil\n",
      "#OTDirecto2OCT\n",
      "#صباح_الثلاثاء\n",
      "#HariBatikNasional\n",
      "#الحب_يكون_مع_الوقت\n",
      "#AslınaBakarsak\n",
      "#JENNIExCHANEL\n",
      "#ParisMotorShow\n",
      "#ManikarnikaTeaser\n",
      "#ForbesW\n",
      "#GHVIP2O\n",
      "#WorldBalletDay\n",
      "#DrosRapist\n",
      "#r4today\n",
      "#تطبيق_زواجكم_يشعل_تويتر\n",
      "#DíaDeLaPolicía\n",
      "#افريقيا_يا_اهلي\n",
      "#LawanKemustahilan\n",
      "#CD入荷情報\n",
      "#자캐를_벗기면_알게되는것\n",
      "#SUPWIN\n",
      "#EksporManggisLagi\n",
      "#2deOctubre\n",
      "#GüzelKızlarTwitarttirComda\n",
      "#chooseday\n"
     ]
    }
   ],
   "source": [
    "extractor = twitter_setup()\n",
    "trends1 = extractor.trends_place(1) # from the end of your code\n",
    "# trends1 is a list with only one element in it, which is a \n",
    "# dict which we'll put in data.\n",
    "data = trends1[0] \n",
    "# grab the trends\n",
    "trends = data['trends']\n",
    "# grab the name from each trend\n",
    "names = [trend['name'] for trend in trends]\n",
    "# put all the names together with a ' ' separating them\n",
    "trendsName = \"\\n\".join(names)\n",
    "print(trendsName)"
   ]
  },
  {
   "cell_type": "code",
   "execution_count": 10,
   "metadata": {},
   "outputs": [],
   "source": [
    "query=\"#GandhiJayanti\" # Enter user or query"
   ]
  },
  {
   "cell_type": "code",
   "execution_count": 11,
   "metadata": {},
   "outputs": [
    {
     "name": "stdout",
     "output_type": "stream",
     "text": [
      "Number of tweets extracted: 98.\n",
      "\n",
      "5 recent tweets:\n",
      "\n",
      "Never happened in 70Yrs of India’s independence! Farmers protest &amp; police firing on #GandhiJayanti and… https://t.co/9Y0SX7evvY\n",
      "\n",
      "RT @Ramesh_Mendola: राष्ट्रपिता #महात्मागाँधी जी की 150वी जन्म जयंती पर कोटि कोटि नमन \n",
      "#150 #Gandhi150 #GandhiJayanti https://t.co/ZkRB396v…\n",
      "\n",
      "RT @DrJitendraSingh: #SwachhBharat campaign catches up along border areas of district #Kathua in J&amp;K. 800 upgraded Sulabh toilets already c…\n",
      "\n",
      "RT @MajorPoonia: Sorry National Herald,\n",
      "NO ONE is bigger than INDIA , Country is Above All !\n",
      "Salute and respect to Mahatma Gandhi -The tall…\n",
      "\n",
      "RT @SadhguruJV: Mahatma means a great Being.\n",
      "One becomes a great being only when\n",
      "the one rises above the limitations of Body, Mind,\n",
      "family,…\n",
      "\n"
     ]
    }
   ],
   "source": [
    "# We create an extractor object:\n",
    "extractor = twitter_setup()\n",
    "\n",
    "# We create a tweet list based on query:\n",
    "tweets = extractor.search(q=query, count=100)\n",
    "\n",
    "# We create a tweet list based on user\n",
    "#tweets = extractor.user_timeline(screen_name=query, count=100)\n",
    "\n",
    "print(\"Number of tweets extracted: {}.\\n\".format(len(tweets)))\n",
    "\n",
    "# We print the most recent 5 tweets:\n",
    "print(\"5 recent tweets:\\n\")\n",
    "for tweet in tweets[:5]:\n",
    "    print(tweet.text)\n",
    "    print()"
   ]
  },
  {
   "cell_type": "code",
   "execution_count": 13,
   "metadata": {},
   "outputs": [
    {
     "data": {
      "text/html": [
       "<div>\n",
       "<style scoped>\n",
       "    .dataframe tbody tr th:only-of-type {\n",
       "        vertical-align: middle;\n",
       "    }\n",
       "\n",
       "    .dataframe tbody tr th {\n",
       "        vertical-align: top;\n",
       "    }\n",
       "\n",
       "    .dataframe thead th {\n",
       "        text-align: right;\n",
       "    }\n",
       "</style>\n",
       "<table border=\"1\" class=\"dataframe\">\n",
       "  <thead>\n",
       "    <tr style=\"text-align: right;\">\n",
       "      <th></th>\n",
       "      <th>Tweets</th>\n",
       "    </tr>\n",
       "  </thead>\n",
       "  <tbody>\n",
       "    <tr>\n",
       "      <th>0</th>\n",
       "      <td>Never happened in 70Yrs of India’s independenc...</td>\n",
       "    </tr>\n",
       "    <tr>\n",
       "      <th>1</th>\n",
       "      <td>RT @Ramesh_Mendola: राष्ट्रपिता #महात्मागाँधी ...</td>\n",
       "    </tr>\n",
       "    <tr>\n",
       "      <th>2</th>\n",
       "      <td>RT @DrJitendraSingh: #SwachhBharat campaign ca...</td>\n",
       "    </tr>\n",
       "    <tr>\n",
       "      <th>3</th>\n",
       "      <td>RT @MajorPoonia: Sorry National Herald,\\nNO ON...</td>\n",
       "    </tr>\n",
       "    <tr>\n",
       "      <th>4</th>\n",
       "      <td>RT @SadhguruJV: Mahatma means a great Being.\\n...</td>\n",
       "    </tr>\n",
       "    <tr>\n",
       "      <th>5</th>\n",
       "      <td>RT @INCMaharashtra: Culture of the Nation resi...</td>\n",
       "    </tr>\n",
       "    <tr>\n",
       "      <th>6</th>\n",
       "      <td>RT @RahulGandhi: Gandhiji is not an immobile s...</td>\n",
       "    </tr>\n",
       "    <tr>\n",
       "      <th>7</th>\n",
       "      <td>RT @RishiDarshan: #GandhiJayanti विशेष\\nसफलता ...</td>\n",
       "    </tr>\n",
       "    <tr>\n",
       "      <th>8</th>\n",
       "      <td>#MahatmaGandhi श्रीनगर पहुँचे तो महारानी तारा ...</td>\n",
       "    </tr>\n",
       "    <tr>\n",
       "      <th>9</th>\n",
       "      <td>RT @scotchism: 2nd October 1869- The man who d...</td>\n",
       "    </tr>\n",
       "  </tbody>\n",
       "</table>\n",
       "</div>"
      ],
      "text/plain": [
       "                                              Tweets\n",
       "0  Never happened in 70Yrs of India’s independenc...\n",
       "1  RT @Ramesh_Mendola: राष्ट्रपिता #महात्मागाँधी ...\n",
       "2  RT @DrJitendraSingh: #SwachhBharat campaign ca...\n",
       "3  RT @MajorPoonia: Sorry National Herald,\\nNO ON...\n",
       "4  RT @SadhguruJV: Mahatma means a great Being.\\n...\n",
       "5  RT @INCMaharashtra: Culture of the Nation resi...\n",
       "6  RT @RahulGandhi: Gandhiji is not an immobile s...\n",
       "7  RT @RishiDarshan: #GandhiJayanti विशेष\\nसफलता ...\n",
       "8  #MahatmaGandhi श्रीनगर पहुँचे तो महारानी तारा ...\n",
       "9  RT @scotchism: 2nd October 1869- The man who d..."
      ]
     },
     "metadata": {},
     "output_type": "display_data"
    }
   ],
   "source": [
    "# We create a pandas dataframe as follows:\n",
    "data = pd.DataFrame(data=[tweet.text for tweet in tweets], columns=['Tweets'])\n",
    "\n",
    "# We display the first 10 elements of the dataframe:\n",
    "display(data.head(10))"
   ]
  },
  {
   "cell_type": "code",
   "execution_count": 14,
   "metadata": {},
   "outputs": [
    {
     "name": "stdout",
     "output_type": "stream",
     "text": [
      "['__class__', '__delattr__', '__dict__', '__dir__', '__doc__', '__eq__', '__format__', '__ge__', '__getattribute__', '__getstate__', '__gt__', '__hash__', '__init__', '__le__', '__lt__', '__module__', '__ne__', '__new__', '__reduce__', '__reduce_ex__', '__repr__', '__setattr__', '__sizeof__', '__str__', '__subclasshook__', '__weakref__', '_api', '_json', 'author', 'contributors', 'coordinates', 'created_at', 'destroy', 'entities', 'favorite', 'favorite_count', 'favorited', 'geo', 'id', 'id_str', 'in_reply_to_screen_name', 'in_reply_to_status_id', 'in_reply_to_status_id_str', 'in_reply_to_user_id', 'in_reply_to_user_id_str', 'is_quote_status', 'lang', 'metadata', 'parse', 'parse_list', 'place', 'retweet', 'retweet_count', 'retweeted', 'retweets', 'source', 'source_url', 'text', 'truncated', 'user']\n"
     ]
    }
   ],
   "source": [
    "# Internal methods of a single tweet object:\n",
    "print(dir(tweets[0]))"
   ]
  },
  {
   "cell_type": "markdown",
   "metadata": {},
   "source": [
    "# Adding relevant info to our dataframe"
   ]
  },
  {
   "cell_type": "code",
   "execution_count": 15,
   "metadata": {},
   "outputs": [],
   "source": [
    "# We add relevant data:\n",
    "data['len']  = np.array([len(tweet.text) for tweet in tweets])\n",
    "data['ID']   = np.array([tweet.id for tweet in tweets])\n",
    "data['Date'] = np.array([tweet.created_at for tweet in tweets])\n",
    "data['Source'] = np.array([tweet.source for tweet in tweets])\n",
    "data['Likes']  = np.array([tweet.favorite_count for tweet in tweets])\n",
    "data['RTs']    = np.array([tweet.retweet_count for tweet in tweets])\n",
    "data['Language'] = np.array([tweet.lang for tweet in tweets])\n"
   ]
  },
  {
   "cell_type": "code",
   "execution_count": 16,
   "metadata": {},
   "outputs": [
    {
     "data": {
      "text/html": [
       "<div>\n",
       "<style scoped>\n",
       "    .dataframe tbody tr th:only-of-type {\n",
       "        vertical-align: middle;\n",
       "    }\n",
       "\n",
       "    .dataframe tbody tr th {\n",
       "        vertical-align: top;\n",
       "    }\n",
       "\n",
       "    .dataframe thead th {\n",
       "        text-align: right;\n",
       "    }\n",
       "</style>\n",
       "<table border=\"1\" class=\"dataframe\">\n",
       "  <thead>\n",
       "    <tr style=\"text-align: right;\">\n",
       "      <th></th>\n",
       "      <th>Tweets</th>\n",
       "      <th>len</th>\n",
       "      <th>ID</th>\n",
       "      <th>Date</th>\n",
       "      <th>Source</th>\n",
       "      <th>Likes</th>\n",
       "      <th>RTs</th>\n",
       "      <th>Language</th>\n",
       "    </tr>\n",
       "  </thead>\n",
       "  <tbody>\n",
       "    <tr>\n",
       "      <th>0</th>\n",
       "      <td>Never happened in 70Yrs of India’s independenc...</td>\n",
       "      <td>131</td>\n",
       "      <td>1047059682437816322</td>\n",
       "      <td>2018-10-02 09:44:16</td>\n",
       "      <td>Twitter Lite</td>\n",
       "      <td>0</td>\n",
       "      <td>0</td>\n",
       "      <td>en</td>\n",
       "    </tr>\n",
       "    <tr>\n",
       "      <th>1</th>\n",
       "      <td>RT @Ramesh_Mendola: राष्ट्रपिता #महात्मागाँधी ...</td>\n",
       "      <td>140</td>\n",
       "      <td>1047059681229852674</td>\n",
       "      <td>2018-10-02 09:44:16</td>\n",
       "      <td>Twitter for Android</td>\n",
       "      <td>0</td>\n",
       "      <td>28</td>\n",
       "      <td>hi</td>\n",
       "    </tr>\n",
       "    <tr>\n",
       "      <th>2</th>\n",
       "      <td>RT @DrJitendraSingh: #SwachhBharat campaign ca...</td>\n",
       "      <td>144</td>\n",
       "      <td>1047059678604267525</td>\n",
       "      <td>2018-10-02 09:44:15</td>\n",
       "      <td>Twitter for Android</td>\n",
       "      <td>0</td>\n",
       "      <td>14</td>\n",
       "      <td>en</td>\n",
       "    </tr>\n",
       "    <tr>\n",
       "      <th>3</th>\n",
       "      <td>RT @MajorPoonia: Sorry National Herald,\\nNO ON...</td>\n",
       "      <td>140</td>\n",
       "      <td>1047059674296725506</td>\n",
       "      <td>2018-10-02 09:44:14</td>\n",
       "      <td>Twitter for Android</td>\n",
       "      <td>0</td>\n",
       "      <td>986</td>\n",
       "      <td>en</td>\n",
       "    </tr>\n",
       "    <tr>\n",
       "      <th>4</th>\n",
       "      <td>RT @SadhguruJV: Mahatma means a great Being.\\n...</td>\n",
       "      <td>140</td>\n",
       "      <td>1047059670106591233</td>\n",
       "      <td>2018-10-02 09:44:13</td>\n",
       "      <td>Twitter for Android</td>\n",
       "      <td>0</td>\n",
       "      <td>1163</td>\n",
       "      <td>en</td>\n",
       "    </tr>\n",
       "    <tr>\n",
       "      <th>5</th>\n",
       "      <td>RT @INCMaharashtra: Culture of the Nation resi...</td>\n",
       "      <td>140</td>\n",
       "      <td>1047059669095784449</td>\n",
       "      <td>2018-10-02 09:44:13</td>\n",
       "      <td>Twitter for Android</td>\n",
       "      <td>0</td>\n",
       "      <td>32</td>\n",
       "      <td>en</td>\n",
       "    </tr>\n",
       "    <tr>\n",
       "      <th>6</th>\n",
       "      <td>RT @RahulGandhi: Gandhiji is not an immobile s...</td>\n",
       "      <td>140</td>\n",
       "      <td>1047059669066366976</td>\n",
       "      <td>2018-10-02 09:44:13</td>\n",
       "      <td>Twitter for Android</td>\n",
       "      <td>0</td>\n",
       "      <td>4995</td>\n",
       "      <td>en</td>\n",
       "    </tr>\n",
       "    <tr>\n",
       "      <th>7</th>\n",
       "      <td>RT @RishiDarshan: #GandhiJayanti विशेष\\nसफलता ...</td>\n",
       "      <td>140</td>\n",
       "      <td>1047059667883560961</td>\n",
       "      <td>2018-10-02 09:44:12</td>\n",
       "      <td>Twitter for Android</td>\n",
       "      <td>0</td>\n",
       "      <td>254</td>\n",
       "      <td>und</td>\n",
       "    </tr>\n",
       "    <tr>\n",
       "      <th>8</th>\n",
       "      <td>#MahatmaGandhi श्रीनगर पहुँचे तो महारानी तारा ...</td>\n",
       "      <td>139</td>\n",
       "      <td>1047059667438985218</td>\n",
       "      <td>2018-10-02 09:44:12</td>\n",
       "      <td>Twitter for Android</td>\n",
       "      <td>0</td>\n",
       "      <td>0</td>\n",
       "      <td>hi</td>\n",
       "    </tr>\n",
       "    <tr>\n",
       "      <th>9</th>\n",
       "      <td>RT @scotchism: 2nd October 1869- The man who d...</td>\n",
       "      <td>144</td>\n",
       "      <td>1047059667162157063</td>\n",
       "      <td>2018-10-02 09:44:12</td>\n",
       "      <td>Twitter for Android</td>\n",
       "      <td>0</td>\n",
       "      <td>6</td>\n",
       "      <td>en</td>\n",
       "    </tr>\n",
       "  </tbody>\n",
       "</table>\n",
       "</div>"
      ],
      "text/plain": [
       "                                              Tweets  len  \\\n",
       "0  Never happened in 70Yrs of India’s independenc...  131   \n",
       "1  RT @Ramesh_Mendola: राष्ट्रपिता #महात्मागाँधी ...  140   \n",
       "2  RT @DrJitendraSingh: #SwachhBharat campaign ca...  144   \n",
       "3  RT @MajorPoonia: Sorry National Herald,\\nNO ON...  140   \n",
       "4  RT @SadhguruJV: Mahatma means a great Being.\\n...  140   \n",
       "5  RT @INCMaharashtra: Culture of the Nation resi...  140   \n",
       "6  RT @RahulGandhi: Gandhiji is not an immobile s...  140   \n",
       "7  RT @RishiDarshan: #GandhiJayanti विशेष\\nसफलता ...  140   \n",
       "8  #MahatmaGandhi श्रीनगर पहुँचे तो महारानी तारा ...  139   \n",
       "9  RT @scotchism: 2nd October 1869- The man who d...  144   \n",
       "\n",
       "                    ID                Date               Source  Likes   RTs  \\\n",
       "0  1047059682437816322 2018-10-02 09:44:16         Twitter Lite      0     0   \n",
       "1  1047059681229852674 2018-10-02 09:44:16  Twitter for Android      0    28   \n",
       "2  1047059678604267525 2018-10-02 09:44:15  Twitter for Android      0    14   \n",
       "3  1047059674296725506 2018-10-02 09:44:14  Twitter for Android      0   986   \n",
       "4  1047059670106591233 2018-10-02 09:44:13  Twitter for Android      0  1163   \n",
       "5  1047059669095784449 2018-10-02 09:44:13  Twitter for Android      0    32   \n",
       "6  1047059669066366976 2018-10-02 09:44:13  Twitter for Android      0  4995   \n",
       "7  1047059667883560961 2018-10-02 09:44:12  Twitter for Android      0   254   \n",
       "8  1047059667438985218 2018-10-02 09:44:12  Twitter for Android      0     0   \n",
       "9  1047059667162157063 2018-10-02 09:44:12  Twitter for Android      0     6   \n",
       "\n",
       "  Language  \n",
       "0       en  \n",
       "1       hi  \n",
       "2       en  \n",
       "3       en  \n",
       "4       en  \n",
       "5       en  \n",
       "6       en  \n",
       "7      und  \n",
       "8       hi  \n",
       "9       en  "
      ]
     },
     "metadata": {},
     "output_type": "display_data"
    }
   ],
   "source": [
    "# Display of first 10 elements from dataframe:\n",
    "display(data.head(10))"
   ]
  },
  {
   "cell_type": "code",
   "execution_count": 17,
   "metadata": {},
   "outputs": [
    {
     "name": "stdout",
     "output_type": "stream",
     "text": [
      "The lenght's average in tweets: 134.69387755102042\n"
     ]
    }
   ],
   "source": [
    "# We extract the mean of lenghts:\n",
    "mean = np.mean(data['len'])\n",
    "\n",
    "print(\"The lenght's average in tweets: {}\".format(mean))"
   ]
  },
  {
   "cell_type": "code",
   "execution_count": 18,
   "metadata": {},
   "outputs": [
    {
     "data": {
      "text/plain": [
       "<matplotlib.axes._subplots.AxesSubplot at 0x1a150fcb00>"
      ]
     },
     "execution_count": 18,
     "metadata": {},
     "output_type": "execute_result"
    },
    {
     "data": {
      "image/png": "[encoded data removed]",
      "text/plain": [
       "<Figure size 432x288 with 1 Axes>"
      ]
     },
     "metadata": {},
     "output_type": "display_data"
    }
   ],
   "source": [
    "tweets_by_lang = data['Language'].value_counts()\n",
    "\n",
    "fig, ax = plt.subplots()\n",
    "ax.tick_params(axis='x', labelsize=15)\n",
    "ax.tick_params(axis='y', labelsize=10)\n",
    "ax.set_xlabel('Languages', fontsize=15)\n",
    "ax.set_ylabel('Number of tweets' , fontsize=15)\n",
    "ax.set_title('Top 5 languages', fontsize=15, fontweight='bold')\n",
    "tweets_by_lang[:5].plot(ax=ax, kind='bar', color='red')"
   ]
  },
  {
   "cell_type": "code",
   "execution_count": 19,
   "metadata": {},
   "outputs": [
    {
     "name": "stdout",
     "output_type": "stream",
     "text": [
      "The tweet with more likes is: \n",
      "The key to a greener planet is in our hands!\n",
      "\n",
      "On the occasion of #GandhiJayanti, took part in a 'Tree Plantation' d… https://t.co/VVlRMhojls\n",
      "Number of likes: 2\n",
      "140 characters.\n",
      "\n",
      "The tweet with more retweets is: \n",
      "RT @RahulGandhi: Gandhiji is not an immobile statue, he is a living set of ideas and values flowing through India. \n",
      "\n",
      "Truth and non-violence…\n",
      "Number of retweets: 4995\n",
      "140 characters.\n",
      "\n"
     ]
    }
   ],
   "source": [
    "# We extract the tweet with more FAVs and more RTs:\n",
    "\n",
    "fav_max = np.max(data['Likes'])\n",
    "rt_max  = np.max(data['RTs'])\n",
    "\n",
    "fav = data[data.Likes == fav_max].index[0]\n",
    "rt  = data[data.RTs == rt_max].index[0]\n",
    "\n",
    "# Max FAVs:\n",
    "print(\"The tweet with more likes is: \\n{}\".format(data['Tweets'][fav]))\n",
    "print(\"Number of likes: {}\".format(fav_max))\n",
    "print(\"{} characters.\\n\".format(data['len'][fav]))\n",
    "\n",
    "# Max RTs:\n",
    "print(\"The tweet with more retweets is: \\n{}\".format(data['Tweets'][rt]))\n",
    "print(\"Number of retweets: {}\".format(rt_max))\n",
    "print(\"{} characters.\\n\".format(data['len'][rt]))"
   ]
  },
  {
   "cell_type": "markdown",
   "metadata": {},
   "source": [
    "# Time series of Tweets"
   ]
  },
  {
   "cell_type": "code",
   "execution_count": 20,
   "metadata": {},
   "outputs": [],
   "source": [
    "# We create time series for data:\n",
    "\n",
    "tlen = pd.Series(data=data['len'].values, index=data['Date'])\n",
    "tfav = pd.Series(data=data['Likes'].values, index=data['Date'])\n",
    "tret = pd.Series(data=data['RTs'].values, index=data['Date'])"
   ]
  },
  {
   "cell_type": "code",
   "execution_count": 21,
   "metadata": {},
   "outputs": [
    {
     "data": {
      "image/png": "[encoded data removed]",
      "text/plain": [
       "<Figure size 1152x288 with 1 Axes>"
      ]
     },
     "metadata": {},
     "output_type": "display_data"
    }
   ],
   "source": [
    "# Lenghts along time:\n",
    "tlen.plot(figsize=(16,4), color='r');"
   ]
  },
  {
   "cell_type": "code",
   "execution_count": 22,
   "metadata": {},
   "outputs": [
    {
     "data": {
      "image/png": "[encoded data removed]",
      "text/plain": [
       "<Figure size 1152x288 with 1 Axes>"
      ]
     },
     "metadata": {},
     "output_type": "display_data"
    }
   ],
   "source": [
    "# Likes vs retweets visualization:\n",
    "tfav.plot(figsize=(16,4), label=\"Likes\", legend=True)\n",
    "tret.plot(figsize=(16,4), label=\"Retweets\", legend=True);"
   ]
  },
  {
   "cell_type": "markdown",
   "metadata": {},
   "source": [
    "# Pie charts of sources"
   ]
  },
  {
   "cell_type": "code",
   "execution_count": 23,
   "metadata": {},
   "outputs": [
    {
     "name": "stdout",
     "output_type": "stream",
     "text": [
      "Creation of content sources:\n",
      "* Twitter Lite\n",
      "* Twitter for Android\n",
      "* Twitter for iPhone\n",
      "* Twitter Web Client\n"
     ]
    }
   ],
   "source": [
    "# We obtain all possible sources:\n",
    "sources = []\n",
    "for source in data['Source']:\n",
    "    if source not in sources:\n",
    "        sources.append(source)\n",
    "\n",
    "# We print sources list:\n",
    "print(\"Creation of content sources:\")\n",
    "for source in sources:\n",
    "    print(\"* {}\".format(source))"
   ]
  },
  {
   "cell_type": "code",
   "execution_count": 24,
   "metadata": {},
   "outputs": [
    {
     "data": {
      "image/png": "[encoded data removed]",
      "text/plain": [
       "<Figure size 720x576 with 1 Axes>"
      ]
     },
     "metadata": {},
     "output_type": "display_data"
    }
   ],
   "source": [
    "# We create a numpy vector mapped to labels:\n",
    "percent = np.zeros(len(sources))\n",
    "\n",
    "for source in data['Source']:\n",
    "    for index in range(len(sources)):\n",
    "        if source == sources[index]:\n",
    "            percent[index] += 1\n",
    "            pass\n",
    "\n",
    "percent /= 100\n",
    "\n",
    "# Pie chart:\n",
    "pie_chart = pd.Series(percent, index=sources, name='Sources')\n",
    "pie_chart.plot.pie(fontsize=11, autopct='%.2f', figsize=(10,8));"
   ]
  },
  {
   "cell_type": "markdown",
   "metadata": {},
   "source": [
    "# Sentiment analysis"
   ]
  },
  {
   "cell_type": "code",
   "execution_count": 25,
   "metadata": {},
   "outputs": [],
   "source": [
    "from textblob import TextBlob\n",
    "import re\n",
    "\n",
    "def clean_tweet(tweet):\n",
    "    '''\n",
    "    Utility function to clean the text in a tweet by removing \n",
    "    links and special characters using regex.\n",
    "    '''\n",
    "    return ' '.join(re.sub(\"(@[A-Za-z0-9]+)|([^0-9A-Za-z \\t])|(\\w+:\\/\\/\\S+)\", \" \", tweet).split())\n",
    "\n",
    "def analize_sentiment(tweet):\n",
    "    '''\n",
    "    Utility function to classify the polarity of a tweet\n",
    "    using textblob.\n",
    "    '''\n",
    "    analysis = TextBlob(clean_tweet(tweet))\n",
    "    if analysis.sentiment.polarity > 0:\n",
    "        return 1\n",
    "    elif analysis.sentiment.polarity == 0:\n",
    "        return 0\n",
    "    else:\n",
    "        return -1"
   ]
  },
  {
   "cell_type": "code",
   "execution_count": 26,
   "metadata": {},
   "outputs": [
    {
     "data": {
      "text/html": [
       "<div>\n",
       "<style scoped>\n",
       "    .dataframe tbody tr th:only-of-type {\n",
       "        vertical-align: middle;\n",
       "    }\n",
       "\n",
       "    .dataframe tbody tr th {\n",
       "        vertical-align: top;\n",
       "    }\n",
       "\n",
       "    .dataframe thead th {\n",
       "        text-align: right;\n",
       "    }\n",
       "</style>\n",
       "<table border=\"1\" class=\"dataframe\">\n",
       "  <thead>\n",
       "    <tr style=\"text-align: right;\">\n",
       "      <th></th>\n",
       "      <th>Tweets</th>\n",
       "      <th>len</th>\n",
       "      <th>ID</th>\n",
       "      <th>Date</th>\n",
       "      <th>Source</th>\n",
       "      <th>Likes</th>\n",
       "      <th>RTs</th>\n",
       "      <th>Language</th>\n",
       "      <th>SA</th>\n",
       "    </tr>\n",
       "  </thead>\n",
       "  <tbody>\n",
       "    <tr>\n",
       "      <th>0</th>\n",
       "      <td>Never happened in 70Yrs of India’s independenc...</td>\n",
       "      <td>131</td>\n",
       "      <td>1047059682437816322</td>\n",
       "      <td>2018-10-02 09:44:16</td>\n",
       "      <td>Twitter Lite</td>\n",
       "      <td>0</td>\n",
       "      <td>0</td>\n",
       "      <td>en</td>\n",
       "      <td>0</td>\n",
       "    </tr>\n",
       "    <tr>\n",
       "      <th>1</th>\n",
       "      <td>RT @Ramesh_Mendola: राष्ट्रपिता #महात्मागाँधी ...</td>\n",
       "      <td>140</td>\n",
       "      <td>1047059681229852674</td>\n",
       "      <td>2018-10-02 09:44:16</td>\n",
       "      <td>Twitter for Android</td>\n",
       "      <td>0</td>\n",
       "      <td>28</td>\n",
       "      <td>hi</td>\n",
       "      <td>0</td>\n",
       "    </tr>\n",
       "    <tr>\n",
       "      <th>2</th>\n",
       "      <td>RT @DrJitendraSingh: #SwachhBharat campaign ca...</td>\n",
       "      <td>144</td>\n",
       "      <td>1047059678604267525</td>\n",
       "      <td>2018-10-02 09:44:15</td>\n",
       "      <td>Twitter for Android</td>\n",
       "      <td>0</td>\n",
       "      <td>14</td>\n",
       "      <td>en</td>\n",
       "      <td>0</td>\n",
       "    </tr>\n",
       "    <tr>\n",
       "      <th>3</th>\n",
       "      <td>RT @MajorPoonia: Sorry National Herald,\\nNO ON...</td>\n",
       "      <td>140</td>\n",
       "      <td>1047059674296725506</td>\n",
       "      <td>2018-10-02 09:44:14</td>\n",
       "      <td>Twitter for Android</td>\n",
       "      <td>0</td>\n",
       "      <td>986</td>\n",
       "      <td>en</td>\n",
       "      <td>-1</td>\n",
       "    </tr>\n",
       "    <tr>\n",
       "      <th>4</th>\n",
       "      <td>RT @SadhguruJV: Mahatma means a great Being.\\n...</td>\n",
       "      <td>140</td>\n",
       "      <td>1047059670106591233</td>\n",
       "      <td>2018-10-02 09:44:13</td>\n",
       "      <td>Twitter for Android</td>\n",
       "      <td>0</td>\n",
       "      <td>1163</td>\n",
       "      <td>en</td>\n",
       "      <td>1</td>\n",
       "    </tr>\n",
       "    <tr>\n",
       "      <th>5</th>\n",
       "      <td>RT @INCMaharashtra: Culture of the Nation resi...</td>\n",
       "      <td>140</td>\n",
       "      <td>1047059669095784449</td>\n",
       "      <td>2018-10-02 09:44:13</td>\n",
       "      <td>Twitter for Android</td>\n",
       "      <td>0</td>\n",
       "      <td>32</td>\n",
       "      <td>en</td>\n",
       "      <td>0</td>\n",
       "    </tr>\n",
       "    <tr>\n",
       "      <th>6</th>\n",
       "      <td>RT @RahulGandhi: Gandhiji is not an immobile s...</td>\n",
       "      <td>140</td>\n",
       "      <td>1047059669066366976</td>\n",
       "      <td>2018-10-02 09:44:13</td>\n",
       "      <td>Twitter for Android</td>\n",
       "      <td>0</td>\n",
       "      <td>4995</td>\n",
       "      <td>en</td>\n",
       "      <td>0</td>\n",
       "    </tr>\n",
       "    <tr>\n",
       "      <th>7</th>\n",
       "      <td>RT @RishiDarshan: #GandhiJayanti विशेष\\nसफलता ...</td>\n",
       "      <td>140</td>\n",
       "      <td>1047059667883560961</td>\n",
       "      <td>2018-10-02 09:44:12</td>\n",
       "      <td>Twitter for Android</td>\n",
       "      <td>0</td>\n",
       "      <td>254</td>\n",
       "      <td>und</td>\n",
       "      <td>0</td>\n",
       "    </tr>\n",
       "    <tr>\n",
       "      <th>8</th>\n",
       "      <td>#MahatmaGandhi श्रीनगर पहुँचे तो महारानी तारा ...</td>\n",
       "      <td>139</td>\n",
       "      <td>1047059667438985218</td>\n",
       "      <td>2018-10-02 09:44:12</td>\n",
       "      <td>Twitter for Android</td>\n",
       "      <td>0</td>\n",
       "      <td>0</td>\n",
       "      <td>hi</td>\n",
       "      <td>0</td>\n",
       "    </tr>\n",
       "    <tr>\n",
       "      <th>9</th>\n",
       "      <td>RT @scotchism: 2nd October 1869- The man who d...</td>\n",
       "      <td>144</td>\n",
       "      <td>1047059667162157063</td>\n",
       "      <td>2018-10-02 09:44:12</td>\n",
       "      <td>Twitter for Android</td>\n",
       "      <td>0</td>\n",
       "      <td>6</td>\n",
       "      <td>en</td>\n",
       "      <td>1</td>\n",
       "    </tr>\n",
       "  </tbody>\n",
       "</table>\n",
       "</div>"
      ],
      "text/plain": [
       "                                              Tweets  len  \\\n",
       "0  Never happened in 70Yrs of India’s independenc...  131   \n",
       "1  RT @Ramesh_Mendola: राष्ट्रपिता #महात्मागाँधी ...  140   \n",
       "2  RT @DrJitendraSingh: #SwachhBharat campaign ca...  144   \n",
       "3  RT @MajorPoonia: Sorry National Herald,\\nNO ON...  140   \n",
       "4  RT @SadhguruJV: Mahatma means a great Being.\\n...  140   \n",
       "5  RT @INCMaharashtra: Culture of the Nation resi...  140   \n",
       "6  RT @RahulGandhi: Gandhiji is not an immobile s...  140   \n",
       "7  RT @RishiDarshan: #GandhiJayanti विशेष\\nसफलता ...  140   \n",
       "8  #MahatmaGandhi श्रीनगर पहुँचे तो महारानी तारा ...  139   \n",
       "9  RT @scotchism: 2nd October 1869- The man who d...  144   \n",
       "\n",
       "                    ID                Date               Source  Likes   RTs  \\\n",
       "0  1047059682437816322 2018-10-02 09:44:16         Twitter Lite      0     0   \n",
       "1  1047059681229852674 2018-10-02 09:44:16  Twitter for Android      0    28   \n",
       "2  1047059678604267525 2018-10-02 09:44:15  Twitter for Android      0    14   \n",
       "3  1047059674296725506 2018-10-02 09:44:14  Twitter for Android      0   986   \n",
       "4  1047059670106591233 2018-10-02 09:44:13  Twitter for Android      0  1163   \n",
       "5  1047059669095784449 2018-10-02 09:44:13  Twitter for Android      0    32   \n",
       "6  1047059669066366976 2018-10-02 09:44:13  Twitter for Android      0  4995   \n",
       "7  1047059667883560961 2018-10-02 09:44:12  Twitter for Android      0   254   \n",
       "8  1047059667438985218 2018-10-02 09:44:12  Twitter for Android      0     0   \n",
       "9  1047059667162157063 2018-10-02 09:44:12  Twitter for Android      0     6   \n",
       "\n",
       "  Language  SA  \n",
       "0       en   0  \n",
       "1       hi   0  \n",
       "2       en   0  \n",
       "3       en  -1  \n",
       "4       en   1  \n",
       "5       en   0  \n",
       "6       en   0  \n",
       "7      und   0  \n",
       "8       hi   0  \n",
       "9       en   1  "
      ]
     },
     "metadata": {},
     "output_type": "display_data"
    }
   ],
   "source": [
    "# We create a column with the result of the analysis:\n",
    "data['SA'] = np.array([ analize_sentiment(tweet) for tweet in data['Tweets'] ])\n",
    "\n",
    "# We display the updated dataframe with the new column:\n",
    "display(data.head(10))"
   ]
  },
  {
   "cell_type": "code",
   "execution_count": 27,
   "metadata": {},
   "outputs": [],
   "source": [
    "# We construct lists with classified tweets:\n",
    "\n",
    "pos_tweets = [ tweet for index, tweet in enumerate(data['Tweets']) if data['SA'][index] > 0]\n",
    "neu_tweets = [ tweet for index, tweet in enumerate(data['Tweets']) if data['SA'][index] == 0]\n",
    "neg_tweets = [ tweet for index, tweet in enumerate(data['Tweets']) if data['SA'][index] < 0]"
   ]
  },
  {
   "cell_type": "code",
   "execution_count": 28,
   "metadata": {},
   "outputs": [
    {
     "name": "stdout",
     "output_type": "stream",
     "text": [
      "Percentage of positive tweets: 19.387755102040817%\n",
      "Percentage of neutral tweets: 75.51020408163265%\n",
      "Percentage of negative tweets: 5.1020408163265305%\n"
     ]
    }
   ],
   "source": [
    "# We print percentages:\n",
    "\n",
    "print(\"Percentage of positive tweets: {}%\".format(len(pos_tweets)*100/len(data['Tweets'])))\n",
    "print(\"Percentage of neutral tweets: {}%\".format(len(neu_tweets)*100/len(data['Tweets'])))\n",
    "print(\"Percentage of negative tweets: {}%\".format(len(neg_tweets)*100/len(data['Tweets'])))"
   ]
  }
 ],
 "metadata": {
  "kernelspec": {
   "display_name": "Python 3",
   "language": "python",
   "name": "python3"
  },
  "language_info": {
   "codemirror_mode": {
    "name": "ipython",
    "version": 3
   },
   "file_extension": ".py",
   "mimetype": "text/x-python",
   "name": "python",
   "nbconvert_exporter": "python",
   "pygments_lexer": "ipython3",
   "version": "3.5.5"
  }
 },
 "nbformat": 4,
 "nbformat_minor": 2
}
