{
 "cells": [
  {
   "cell_type": "markdown",
   "metadata": {},
   "source": [
    "# Sentiment analysis on Trump's tweets using Python"
   ]
  },
  {
   "cell_type": "code",
   "execution_count": 36,
   "metadata": {},
   "outputs": [],
   "source": [
    "# General:\n",
    "import tweepy           # To consume Twitter's API\n",
    "import pandas as pd     # To handle data\n",
    "import numpy as np      # For number computing\n",
    "\n",
    "# For plotting and visualization:\n",
    "from IPython.display import display\n",
    "import matplotlib.pyplot as plt\n",
    "import seaborn as sns\n",
    "%matplotlib inline"
   ]
  },
  {
   "cell_type": "markdown",
   "metadata": {},
   "source": [
    "# Creating a Twitter App"
   ]
  },
  {
   "cell_type": "code",
   "execution_count": 37,
   "metadata": {},
   "outputs": [],
   "source": [
    "# Twitter App access keys for @user\n",
    "\n",
    "# Consume:\n",
    "CONSUMER_KEY    = 'yzxNyCyjkVJJrpNY0L3AphSVV'\n",
    "CONSUMER_SECRET = 'e7xhbuIqTM520PCtwGrSrSIXWyrQbH7ckr9s0ToOlQE6tek4OP'\n",
    "\n",
    "# Access:\n",
    "ACCESS_TOKEN  = '2186056028-BPexxHqPrML7hcvwIuLfX3itD8IZPqguuksDHtn'\n",
    "ACCESS_SECRET = 'vvhbgIqa7jK5nBAO9P4Mh1MTFvJdWH3Fl5bbzGhai9Dah'"
   ]
  },
  {
   "cell_type": "code",
   "execution_count": 38,
   "metadata": {},
   "outputs": [],
   "source": [
    "# We import our access keys:\n",
    "from credentials import *    # This will allow us to use the keys as variables\n",
    "\n",
    "# API's setup:\n",
    "def twitter_setup():\n",
    "    \"\"\"\n",
    "    Utility function to setup the Twitter's API\n",
    "    with our access keys provided.\n",
    "    \"\"\"\n",
    "    # Authentication and access using keys:\n",
    "    auth = tweepy.OAuthHandler(CONSUMER_KEY, CONSUMER_SECRET)\n",
    "    auth.set_access_token(ACCESS_TOKEN, ACCESS_SECRET)\n",
    "\n",
    "    # Return API with authentication:\n",
    "    api = tweepy.API(auth)\n",
    "    return api"
   ]
  },
  {
   "cell_type": "code",
   "execution_count": 39,
   "metadata": {},
   "outputs": [],
   "source": [
    "query=\"narendra modi\" # Enter user or query"
   ]
  },
  {
   "cell_type": "code",
   "execution_count": 40,
   "metadata": {},
   "outputs": [
    {
     "name": "stdout",
     "output_type": "stream",
     "text": [
      "Number of tweets extracted: 100.\n",
      "\n",
      "5 recent tweets:\n",
      "\n",
      "The Wire will be publishing a series reported from 18 villages in UP. We will look at the how UP is performing on e… https://t.co/cUHrZoO0hb\n",
      "\n",
      "Gandhi Jayanti’ marks penultimate day of the on going  ‘Sachchta Hi Sewa Pakhwara’ being celebrated all over countr… https://t.co/7YE2YjxhtC\n",
      "\n",
      "RT @VijooKrishnan: Delhi belongs to Kisans too. Condemn Barbaric attack on Annadata! Police brutality on protesting farmers at Delhi border…\n",
      "\n",
      "RT @ashoswai: Modi's Another Jumla: Rs7000 crores have been spent to clean Ganga River, but Murli Manohar Joshi led Parliamentary Estimate…\n",
      "\n",
      "DCM Dr. G. Parameshwar Outrage Against PM Narendra Modi| ಸುದ್ದಿ ಟಿವಿ\n",
      "Suddi TV #DCM #GParameshwar #Anger… https://t.co/dfkFZR5ydx\n",
      "\n"
     ]
    }
   ],
   "source": [
    "# We create an extractor object:\n",
    "extractor = twitter_setup()\n",
    "\n",
    "# We create a tweet list based on query:\n",
    "tweets = extractor.search(q=query, count=200)\n",
    "\n",
    "# We create a tweet list based on user\n",
    "#tweets = extractor.user_timeline(screen_name=query, count=200)\n",
    "\n",
    "print(\"Number of tweets extracted: {}.\\n\".format(len(tweets)))\n",
    "\n",
    "# We print the most recent 5 tweets:\n",
    "print(\"5 recent tweets:\\n\")\n",
    "for tweet in tweets[:5]:\n",
    "    print(tweet.text)\n",
    "    print()"
   ]
  },
  {
   "cell_type": "code",
   "execution_count": 41,
   "metadata": {},
   "outputs": [
    {
     "data": {
      "text/html": [
       "<div>\n",
       "<style scoped>\n",
       "    .dataframe tbody tr th:only-of-type {\n",
       "        vertical-align: middle;\n",
       "    }\n",
       "\n",
       "    .dataframe tbody tr th {\n",
       "        vertical-align: top;\n",
       "    }\n",
       "\n",
       "    .dataframe thead th {\n",
       "        text-align: right;\n",
       "    }\n",
       "</style>\n",
       "<table border=\"1\" class=\"dataframe\">\n",
       "  <thead>\n",
       "    <tr style=\"text-align: right;\">\n",
       "      <th></th>\n",
       "      <th>Tweets</th>\n",
       "    </tr>\n",
       "  </thead>\n",
       "  <tbody>\n",
       "    <tr>\n",
       "      <th>0</th>\n",
       "      <td>The Wire will be publishing a series reported ...</td>\n",
       "    </tr>\n",
       "    <tr>\n",
       "      <th>1</th>\n",
       "      <td>Gandhi Jayanti’ marks penultimate day of the o...</td>\n",
       "    </tr>\n",
       "    <tr>\n",
       "      <th>2</th>\n",
       "      <td>RT @VijooKrishnan: Delhi belongs to Kisans too...</td>\n",
       "    </tr>\n",
       "    <tr>\n",
       "      <th>3</th>\n",
       "      <td>RT @ashoswai: Modi's Another Jumla: Rs7000 cro...</td>\n",
       "    </tr>\n",
       "    <tr>\n",
       "      <th>4</th>\n",
       "      <td>DCM Dr. G. Parameshwar Outrage Against PM Nare...</td>\n",
       "    </tr>\n",
       "    <tr>\n",
       "      <th>5</th>\n",
       "      <td>RT @MahapatPravat: Must read : Narendra Modi s...</td>\n",
       "    </tr>\n",
       "    <tr>\n",
       "      <th>6</th>\n",
       "      <td>RT @tavleen_singh: History will remember Naren...</td>\n",
       "    </tr>\n",
       "    <tr>\n",
       "      <th>7</th>\n",
       "      <td>RT @VijooKrishnan: Delhi belongs to Kisans too...</td>\n",
       "    </tr>\n",
       "    <tr>\n",
       "      <th>8</th>\n",
       "      <td>RT @DilliDurAst: Vijay Mallya can meet Arun Ja...</td>\n",
       "    </tr>\n",
       "    <tr>\n",
       "      <th>9</th>\n",
       "      <td>RT @ranjjeet_kaur: @jaisan1978 @PMOIndia @nare...</td>\n",
       "    </tr>\n",
       "  </tbody>\n",
       "</table>\n",
       "</div>"
      ],
      "text/plain": [
       "                                              Tweets\n",
       "0  The Wire will be publishing a series reported ...\n",
       "1  Gandhi Jayanti’ marks penultimate day of the o...\n",
       "2  RT @VijooKrishnan: Delhi belongs to Kisans too...\n",
       "3  RT @ashoswai: Modi's Another Jumla: Rs7000 cro...\n",
       "4  DCM Dr. G. Parameshwar Outrage Against PM Nare...\n",
       "5  RT @MahapatPravat: Must read : Narendra Modi s...\n",
       "6  RT @tavleen_singh: History will remember Naren...\n",
       "7  RT @VijooKrishnan: Delhi belongs to Kisans too...\n",
       "8  RT @DilliDurAst: Vijay Mallya can meet Arun Ja...\n",
       "9  RT @ranjjeet_kaur: @jaisan1978 @PMOIndia @nare..."
      ]
     },
     "metadata": {},
     "output_type": "display_data"
    }
   ],
   "source": [
    "# We create a pandas dataframe as follows:\n",
    "data = pd.DataFrame(data=[tweet.text for tweet in tweets], columns=['Tweets'])\n",
    "\n",
    "# We display the first 10 elements of the dataframe:\n",
    "display(data.head(10))"
   ]
  },
  {
   "cell_type": "code",
   "execution_count": 21,
   "metadata": {},
   "outputs": [
    {
     "name": "stdout",
     "output_type": "stream",
     "text": [
      "['__class__', '__delattr__', '__dict__', '__dir__', '__doc__', '__eq__', '__format__', '__ge__', '__getattribute__', '__getstate__', '__gt__', '__hash__', '__init__', '__le__', '__lt__', '__module__', '__ne__', '__new__', '__reduce__', '__reduce_ex__', '__repr__', '__setattr__', '__sizeof__', '__str__', '__subclasshook__', '__weakref__', '_api', '_json', 'author', 'contributors', 'coordinates', 'created_at', 'destroy', 'entities', 'favorite', 'favorite_count', 'favorited', 'geo', 'id', 'id_str', 'in_reply_to_screen_name', 'in_reply_to_status_id', 'in_reply_to_status_id_str', 'in_reply_to_user_id', 'in_reply_to_user_id_str', 'is_quote_status', 'lang', 'metadata', 'parse', 'parse_list', 'place', 'retweet', 'retweet_count', 'retweeted', 'retweeted_status', 'retweets', 'source', 'source_url', 'text', 'truncated', 'user']\n"
     ]
    }
   ],
   "source": [
    "# Internal methods of a single tweet object:\n",
    "print(dir(tweets[0]))"
   ]
  },
  {
   "cell_type": "markdown",
   "metadata": {},
   "source": [
    "# Adding relevant info to our dataframe"
   ]
  },
  {
   "cell_type": "code",
   "execution_count": 30,
   "metadata": {},
   "outputs": [],
   "source": [
    "# We add relevant data:\n",
    "data['len']  = np.array([len(tweet.text) for tweet in tweets])\n",
    "data['ID']   = np.array([tweet.id for tweet in tweets])\n",
    "data['Date'] = np.array([tweet.created_at for tweet in tweets])\n",
    "data['Source'] = np.array([tweet.source for tweet in tweets])\n",
    "data['Likes']  = np.array([tweet.favorite_count for tweet in tweets])\n",
    "data['RTs']    = np.array([tweet.retweet_count for tweet in tweets])\n",
    "data['Language'] = np.array([tweet.lang for tweet in tweets])\n"
   ]
  },
  {
   "cell_type": "code",
   "execution_count": 31,
   "metadata": {},
   "outputs": [
    {
     "data": {
      "text/html": [
       "<div>\n",
       "<style scoped>\n",
       "    .dataframe tbody tr th:only-of-type {\n",
       "        vertical-align: middle;\n",
       "    }\n",
       "\n",
       "    .dataframe tbody tr th {\n",
       "        vertical-align: top;\n",
       "    }\n",
       "\n",
       "    .dataframe thead th {\n",
       "        text-align: right;\n",
       "    }\n",
       "</style>\n",
       "<table border=\"1\" class=\"dataframe\">\n",
       "  <thead>\n",
       "    <tr style=\"text-align: right;\">\n",
       "      <th></th>\n",
       "      <th>Tweets</th>\n",
       "      <th>len</th>\n",
       "      <th>ID</th>\n",
       "      <th>Date</th>\n",
       "      <th>Source</th>\n",
       "      <th>Likes</th>\n",
       "      <th>RTs</th>\n",
       "      <th>SA</th>\n",
       "      <th>lang</th>\n",
       "      <th>geo</th>\n",
       "      <th>place</th>\n",
       "      <th>Language</th>\n",
       "    </tr>\n",
       "  </thead>\n",
       "  <tbody>\n",
       "    <tr>\n",
       "      <th>0</th>\n",
       "      <td>RT @THarishyam: #WeWantOurHomes #FundNBCC @nar...</td>\n",
       "      <td>144</td>\n",
       "      <td>1047049566850363392</td>\n",
       "      <td>2018-10-02 09:04:04</td>\n",
       "      <td>Twitter for Android</td>\n",
       "      <td>0</td>\n",
       "      <td>7</td>\n",
       "      <td>-1</td>\n",
       "      <td>en</td>\n",
       "      <td>None</td>\n",
       "      <td>None</td>\n",
       "      <td>en</td>\n",
       "    </tr>\n",
       "    <tr>\n",
       "      <th>1</th>\n",
       "      <td>RT @bhati_jyotika: Where is our country going ...</td>\n",
       "      <td>140</td>\n",
       "      <td>1047049563914342400</td>\n",
       "      <td>2018-10-02 09:04:03</td>\n",
       "      <td>Twitter for Android</td>\n",
       "      <td>0</td>\n",
       "      <td>18</td>\n",
       "      <td>0</td>\n",
       "      <td>en</td>\n",
       "      <td>None</td>\n",
       "      <td>None</td>\n",
       "      <td>en</td>\n",
       "    </tr>\n",
       "    <tr>\n",
       "      <th>2</th>\n",
       "      <td>RT @rubyyadavbjp: प्रधान सेवक की नीतियों का हो...</td>\n",
       "      <td>140</td>\n",
       "      <td>1047049562161057794</td>\n",
       "      <td>2018-10-02 09:04:03</td>\n",
       "      <td>Twitter for Android</td>\n",
       "      <td>0</td>\n",
       "      <td>16</td>\n",
       "      <td>0</td>\n",
       "      <td>hi</td>\n",
       "      <td>None</td>\n",
       "      <td>None</td>\n",
       "      <td>hi</td>\n",
       "    </tr>\n",
       "    <tr>\n",
       "      <th>3</th>\n",
       "      <td>RT @UNICEFIndia: We need four Ps to make #Swac...</td>\n",
       "      <td>140</td>\n",
       "      <td>1047049557195010049</td>\n",
       "      <td>2018-10-02 09:04:02</td>\n",
       "      <td>Twitter for Android</td>\n",
       "      <td>0</td>\n",
       "      <td>3</td>\n",
       "      <td>1</td>\n",
       "      <td>en</td>\n",
       "      <td>None</td>\n",
       "      <td>None</td>\n",
       "      <td>en</td>\n",
       "    </tr>\n",
       "    <tr>\n",
       "      <th>4</th>\n",
       "      <td>@narendramodi ये किसान नहीं है किसान के भेष मे...</td>\n",
       "      <td>139</td>\n",
       "      <td>1047049557035626496</td>\n",
       "      <td>2018-10-02 09:04:02</td>\n",
       "      <td>Twitter for iPhone</td>\n",
       "      <td>0</td>\n",
       "      <td>0</td>\n",
       "      <td>0</td>\n",
       "      <td>hi</td>\n",
       "      <td>None</td>\n",
       "      <td>None</td>\n",
       "      <td>hi</td>\n",
       "    </tr>\n",
       "    <tr>\n",
       "      <th>5</th>\n",
       "      <td>RT @AnkitLal: गांधी जी और लाल बहादुर शास्त्री ...</td>\n",
       "      <td>140</td>\n",
       "      <td>1047049556733640705</td>\n",
       "      <td>2018-10-02 09:04:02</td>\n",
       "      <td>Twitter for iPhone</td>\n",
       "      <td>0</td>\n",
       "      <td>19</td>\n",
       "      <td>0</td>\n",
       "      <td>hi</td>\n",
       "      <td>None</td>\n",
       "      <td>None</td>\n",
       "      <td>hi</td>\n",
       "    </tr>\n",
       "    <tr>\n",
       "      <th>6</th>\n",
       "      <td>@sanjeevrsingh @narendramodi Who has given rig...</td>\n",
       "      <td>140</td>\n",
       "      <td>1047049556729454592</td>\n",
       "      <td>2018-10-02 09:04:02</td>\n",
       "      <td>Twitter for Android</td>\n",
       "      <td>0</td>\n",
       "      <td>0</td>\n",
       "      <td>1</td>\n",
       "      <td>en</td>\n",
       "      <td>None</td>\n",
       "      <td>None</td>\n",
       "      <td>en</td>\n",
       "    </tr>\n",
       "    <tr>\n",
       "      <th>7</th>\n",
       "      <td>RT @ashwaniattrish: @HPCL @HemantSirohi1 @dpra...</td>\n",
       "      <td>140</td>\n",
       "      <td>1047049554657460226</td>\n",
       "      <td>2018-10-02 09:04:01</td>\n",
       "      <td>Twitter for Android</td>\n",
       "      <td>0</td>\n",
       "      <td>2</td>\n",
       "      <td>0</td>\n",
       "      <td>en</td>\n",
       "      <td>None</td>\n",
       "      <td>None</td>\n",
       "      <td>en</td>\n",
       "    </tr>\n",
       "    <tr>\n",
       "      <th>8</th>\n",
       "      <td>RT @anantrao: @narendramodi @PMOIndia @rajnath...</td>\n",
       "      <td>139</td>\n",
       "      <td>1047049554049294336</td>\n",
       "      <td>2018-10-02 09:04:01</td>\n",
       "      <td>Twitter for Android</td>\n",
       "      <td>0</td>\n",
       "      <td>6</td>\n",
       "      <td>0</td>\n",
       "      <td>hi</td>\n",
       "      <td>None</td>\n",
       "      <td>None</td>\n",
       "      <td>hi</td>\n",
       "    </tr>\n",
       "    <tr>\n",
       "      <th>9</th>\n",
       "      <td>RT @MissionBJP2019: 4 साल पहले, खुले में शौच क...</td>\n",
       "      <td>139</td>\n",
       "      <td>1047049550983303168</td>\n",
       "      <td>2018-10-02 09:04:00</td>\n",
       "      <td>Twitter for Android</td>\n",
       "      <td>0</td>\n",
       "      <td>39</td>\n",
       "      <td>0</td>\n",
       "      <td>hi</td>\n",
       "      <td>None</td>\n",
       "      <td>None</td>\n",
       "      <td>hi</td>\n",
       "    </tr>\n",
       "  </tbody>\n",
       "</table>\n",
       "</div>"
      ],
      "text/plain": [
       "                                              Tweets  len  \\\n",
       "0  RT @THarishyam: #WeWantOurHomes #FundNBCC @nar...  144   \n",
       "1  RT @bhati_jyotika: Where is our country going ...  140   \n",
       "2  RT @rubyyadavbjp: प्रधान सेवक की नीतियों का हो...  140   \n",
       "3  RT @UNICEFIndia: We need four Ps to make #Swac...  140   \n",
       "4  @narendramodi ये किसान नहीं है किसान के भेष मे...  139   \n",
       "5  RT @AnkitLal: गांधी जी और लाल बहादुर शास्त्री ...  140   \n",
       "6  @sanjeevrsingh @narendramodi Who has given rig...  140   \n",
       "7  RT @ashwaniattrish: @HPCL @HemantSirohi1 @dpra...  140   \n",
       "8  RT @anantrao: @narendramodi @PMOIndia @rajnath...  139   \n",
       "9  RT @MissionBJP2019: 4 साल पहले, खुले में शौच क...  139   \n",
       "\n",
       "                    ID                Date               Source  Likes  RTs  \\\n",
       "0  1047049566850363392 2018-10-02 09:04:04  Twitter for Android      0    7   \n",
       "1  1047049563914342400 2018-10-02 09:04:03  Twitter for Android      0   18   \n",
       "2  1047049562161057794 2018-10-02 09:04:03  Twitter for Android      0   16   \n",
       "3  1047049557195010049 2018-10-02 09:04:02  Twitter for Android      0    3   \n",
       "4  1047049557035626496 2018-10-02 09:04:02   Twitter for iPhone      0    0   \n",
       "5  1047049556733640705 2018-10-02 09:04:02   Twitter for iPhone      0   19   \n",
       "6  1047049556729454592 2018-10-02 09:04:02  Twitter for Android      0    0   \n",
       "7  1047049554657460226 2018-10-02 09:04:01  Twitter for Android      0    2   \n",
       "8  1047049554049294336 2018-10-02 09:04:01  Twitter for Android      0    6   \n",
       "9  1047049550983303168 2018-10-02 09:04:00  Twitter for Android      0   39   \n",
       "\n",
       "   SA lang   geo place Language  \n",
       "0  -1   en  None  None       en  \n",
       "1   0   en  None  None       en  \n",
       "2   0   hi  None  None       hi  \n",
       "3   1   en  None  None       en  \n",
       "4   0   hi  None  None       hi  \n",
       "5   0   hi  None  None       hi  \n",
       "6   1   en  None  None       en  \n",
       "7   0   en  None  None       en  \n",
       "8   0   hi  None  None       hi  \n",
       "9   0   hi  None  None       hi  "
      ]
     },
     "metadata": {},
     "output_type": "display_data"
    }
   ],
   "source": [
    "# Display of first 10 elements from dataframe:\n",
    "display(data.head(10))"
   ]
  },
  {
   "cell_type": "code",
   "execution_count": 32,
   "metadata": {},
   "outputs": [
    {
     "name": "stdout",
     "output_type": "stream",
     "text": [
      "The lenght's average in tweets: 132.24\n"
     ]
    }
   ],
   "source": [
    "# We extract the mean of lenghts:\n",
    "mean = np.mean(data['len'])\n",
    "\n",
    "print(\"The lenght's average in tweets: {}\".format(mean))"
   ]
  },
  {
   "cell_type": "code",
   "execution_count": 33,
   "metadata": {},
   "outputs": [
    {
     "data": {
      "text/plain": [
       "<matplotlib.axes._subplots.AxesSubplot at 0x1a17df8c50>"
      ]
     },
     "execution_count": 33,
     "metadata": {},
     "output_type": "execute_result"
    },
    {
     "data": {
      "image/png": "[encoded data removed]",
      "text/plain": [
       "<Figure size 432x288 with 1 Axes>"
      ]
     },
     "metadata": {},
     "output_type": "display_data"
    }
   ],
   "source": [
    "tweets_by_lang = data['Language'].value_counts()\n",
    "\n",
    "fig, ax = plt.subplots()\n",
    "ax.tick_params(axis='x', labelsize=15)\n",
    "ax.tick_params(axis='y', labelsize=10)\n",
    "ax.set_xlabel('Languages', fontsize=15)\n",
    "ax.set_ylabel('Number of tweets' , fontsize=15)\n",
    "ax.set_title('Top 5 languages', fontsize=15, fontweight='bold')\n",
    "tweets_by_lang[:5].plot(ax=ax, kind='bar', color='red')"
   ]
  },
  {
   "cell_type": "code",
   "execution_count": 11,
   "metadata": {},
   "outputs": [
    {
     "name": "stdout",
     "output_type": "stream",
     "text": [
      "The tweet with more likes is: \n",
      "RT @THarishyam: #WeWantOurHomes #FundNBCC @narendramodi  G if U haven't guts &amp;power then why r U making false commitment asWe all know thei…\n",
      "Number of likes: 0\n",
      "144 characters.\n",
      "\n",
      "The tweet with more retweets is: \n",
      "RT @narendramodi: सौम्य व्यक्तित्व, कुशल नेतृत्व एवं बुलंद हौसले के प्रतीक लाल बहादुर शास्त्री जी को उनकी जयंती पर विनम्र श्रद्धांजलि। \n",
      "\n",
      "जय…\n",
      "Number of retweets: 5760\n",
      "140 characters.\n",
      "\n"
     ]
    }
   ],
   "source": [
    "# We extract the tweet with more FAVs and more RTs:\n",
    "\n",
    "fav_max = np.max(data['Likes'])\n",
    "rt_max  = np.max(data['RTs'])\n",
    "\n",
    "fav = data[data.Likes == fav_max].index[0]\n",
    "rt  = data[data.RTs == rt_max].index[0]\n",
    "\n",
    "# Max FAVs:\n",
    "print(\"The tweet with more likes is: \\n{}\".format(data['Tweets'][fav]))\n",
    "print(\"Number of likes: {}\".format(fav_max))\n",
    "print(\"{} characters.\\n\".format(data['len'][fav]))\n",
    "\n",
    "# Max RTs:\n",
    "print(\"The tweet with more retweets is: \\n{}\".format(data['Tweets'][rt]))\n",
    "print(\"Number of retweets: {}\".format(rt_max))\n",
    "print(\"{} characters.\\n\".format(data['len'][rt]))"
   ]
  },
  {
   "cell_type": "markdown",
   "metadata": {},
   "source": [
    "# Time series of Tweets"
   ]
  },
  {
   "cell_type": "code",
   "execution_count": 12,
   "metadata": {},
   "outputs": [],
   "source": [
    "# We create time series for data:\n",
    "\n",
    "tlen = pd.Series(data=data['len'].values, index=data['Date'])\n",
    "tfav = pd.Series(data=data['Likes'].values, index=data['Date'])\n",
    "tret = pd.Series(data=data['RTs'].values, index=data['Date'])"
   ]
  },
  {
   "cell_type": "code",
   "execution_count": 13,
   "metadata": {},
   "outputs": [
    {
     "data": {
      "image/png": "[encoded data removed]",
      "text/plain": [
       "<Figure size 1152x288 with 1 Axes>"
      ]
     },
     "metadata": {},
     "output_type": "display_data"
    }
   ],
   "source": [
    "# Lenghts along time:\n",
    "tlen.plot(figsize=(16,4), color='r');"
   ]
  },
  {
   "cell_type": "code",
   "execution_count": 14,
   "metadata": {},
   "outputs": [
    {
     "data": {
      "image/png": "[encoded data removed]",
      "text/plain": [
       "<Figure size 1152x288 with 1 Axes>"
      ]
     },
     "metadata": {},
     "output_type": "display_data"
    }
   ],
   "source": [
    "# Likes vs retweets visualization:\n",
    "tfav.plot(figsize=(16,4), label=\"Likes\", legend=True)\n",
    "tret.plot(figsize=(16,4), label=\"Retweets\", legend=True);"
   ]
  },
  {
   "cell_type": "markdown",
   "metadata": {},
   "source": [
    "# Pie charts of sources"
   ]
  },
  {
   "cell_type": "code",
   "execution_count": 15,
   "metadata": {},
   "outputs": [
    {
     "name": "stdout",
     "output_type": "stream",
     "text": [
      "Creation of content sources:\n",
      "* Twitter for Android\n",
      "* Twitter for iPhone\n",
      "* Twitter Web Client\n",
      "* Twitter Lite\n",
      "* Twitter for iPad\n"
     ]
    }
   ],
   "source": [
    "# We obtain all possible sources:\n",
    "sources = []\n",
    "for source in data['Source']:\n",
    "    if source not in sources:\n",
    "        sources.append(source)\n",
    "\n",
    "# We print sources list:\n",
    "print(\"Creation of content sources:\")\n",
    "for source in sources:\n",
    "    print(\"* {}\".format(source))"
   ]
  },
  {
   "cell_type": "code",
   "execution_count": 16,
   "metadata": {},
   "outputs": [
    {
     "data": {
      "image/png": "[encoded data removed]",
      "text/plain": [
       "<Figure size 720x576 with 1 Axes>"
      ]
     },
     "metadata": {},
     "output_type": "display_data"
    }
   ],
   "source": [
    "# We create a numpy vector mapped to labels:\n",
    "percent = np.zeros(len(sources))\n",
    "\n",
    "for source in data['Source']:\n",
    "    for index in range(len(sources)):\n",
    "        if source == sources[index]:\n",
    "            percent[index] += 1\n",
    "            pass\n",
    "\n",
    "percent /= 100\n",
    "\n",
    "# Pie chart:\n",
    "pie_chart = pd.Series(percent, index=sources, name='Sources')\n",
    "pie_chart.plot.pie(fontsize=11, autopct='%.2f', figsize=(10,8));"
   ]
  },
  {
   "cell_type": "markdown",
   "metadata": {},
   "source": [
    "# Sentiment analysis"
   ]
  },
  {
   "cell_type": "code",
   "execution_count": 17,
   "metadata": {},
   "outputs": [],
   "source": [
    "from textblob import TextBlob\n",
    "import re\n",
    "\n",
    "def clean_tweet(tweet):\n",
    "    '''\n",
    "    Utility function to clean the text in a tweet by removing \n",
    "    links and special characters using regex.\n",
    "    '''\n",
    "    return ' '.join(re.sub(\"(@[A-Za-z0-9]+)|([^0-9A-Za-z \\t])|(\\w+:\\/\\/\\S+)\", \" \", tweet).split())\n",
    "\n",
    "def analize_sentiment(tweet):\n",
    "    '''\n",
    "    Utility function to classify the polarity of a tweet\n",
    "    using textblob.\n",
    "    '''\n",
    "    analysis = TextBlob(clean_tweet(tweet))\n",
    "    if analysis.sentiment.polarity > 0:\n",
    "        return 1\n",
    "    elif analysis.sentiment.polarity == 0:\n",
    "        return 0\n",
    "    else:\n",
    "        return -1"
   ]
  },
  {
   "cell_type": "code",
   "execution_count": 18,
   "metadata": {},
   "outputs": [
    {
     "data": {
      "text/html": [
       "<div>\n",
       "<style scoped>\n",
       "    .dataframe tbody tr th:only-of-type {\n",
       "        vertical-align: middle;\n",
       "    }\n",
       "\n",
       "    .dataframe tbody tr th {\n",
       "        vertical-align: top;\n",
       "    }\n",
       "\n",
       "    .dataframe thead th {\n",
       "        text-align: right;\n",
       "    }\n",
       "</style>\n",
       "<table border=\"1\" class=\"dataframe\">\n",
       "  <thead>\n",
       "    <tr style=\"text-align: right;\">\n",
       "      <th></th>\n",
       "      <th>Tweets</th>\n",
       "      <th>len</th>\n",
       "      <th>ID</th>\n",
       "      <th>Date</th>\n",
       "      <th>Source</th>\n",
       "      <th>Likes</th>\n",
       "      <th>RTs</th>\n",
       "      <th>SA</th>\n",
       "    </tr>\n",
       "  </thead>\n",
       "  <tbody>\n",
       "    <tr>\n",
       "      <th>0</th>\n",
       "      <td>RT @THarishyam: #WeWantOurHomes #FundNBCC @nar...</td>\n",
       "      <td>144</td>\n",
       "      <td>1047049566850363392</td>\n",
       "      <td>2018-10-02 09:04:04</td>\n",
       "      <td>Twitter for Android</td>\n",
       "      <td>0</td>\n",
       "      <td>7</td>\n",
       "      <td>-1</td>\n",
       "    </tr>\n",
       "    <tr>\n",
       "      <th>1</th>\n",
       "      <td>RT @bhati_jyotika: Where is our country going ...</td>\n",
       "      <td>140</td>\n",
       "      <td>1047049563914342400</td>\n",
       "      <td>2018-10-02 09:04:03</td>\n",
       "      <td>Twitter for Android</td>\n",
       "      <td>0</td>\n",
       "      <td>18</td>\n",
       "      <td>0</td>\n",
       "    </tr>\n",
       "    <tr>\n",
       "      <th>2</th>\n",
       "      <td>RT @rubyyadavbjp: प्रधान सेवक की नीतियों का हो...</td>\n",
       "      <td>140</td>\n",
       "      <td>1047049562161057794</td>\n",
       "      <td>2018-10-02 09:04:03</td>\n",
       "      <td>Twitter for Android</td>\n",
       "      <td>0</td>\n",
       "      <td>16</td>\n",
       "      <td>0</td>\n",
       "    </tr>\n",
       "    <tr>\n",
       "      <th>3</th>\n",
       "      <td>RT @UNICEFIndia: We need four Ps to make #Swac...</td>\n",
       "      <td>140</td>\n",
       "      <td>1047049557195010049</td>\n",
       "      <td>2018-10-02 09:04:02</td>\n",
       "      <td>Twitter for Android</td>\n",
       "      <td>0</td>\n",
       "      <td>3</td>\n",
       "      <td>1</td>\n",
       "    </tr>\n",
       "    <tr>\n",
       "      <th>4</th>\n",
       "      <td>@narendramodi ये किसान नहीं है किसान के भेष मे...</td>\n",
       "      <td>139</td>\n",
       "      <td>1047049557035626496</td>\n",
       "      <td>2018-10-02 09:04:02</td>\n",
       "      <td>Twitter for iPhone</td>\n",
       "      <td>0</td>\n",
       "      <td>0</td>\n",
       "      <td>0</td>\n",
       "    </tr>\n",
       "    <tr>\n",
       "      <th>5</th>\n",
       "      <td>RT @AnkitLal: गांधी जी और लाल बहादुर शास्त्री ...</td>\n",
       "      <td>140</td>\n",
       "      <td>1047049556733640705</td>\n",
       "      <td>2018-10-02 09:04:02</td>\n",
       "      <td>Twitter for iPhone</td>\n",
       "      <td>0</td>\n",
       "      <td>19</td>\n",
       "      <td>0</td>\n",
       "    </tr>\n",
       "    <tr>\n",
       "      <th>6</th>\n",
       "      <td>@sanjeevrsingh @narendramodi Who has given rig...</td>\n",
       "      <td>140</td>\n",
       "      <td>1047049556729454592</td>\n",
       "      <td>2018-10-02 09:04:02</td>\n",
       "      <td>Twitter for Android</td>\n",
       "      <td>0</td>\n",
       "      <td>0</td>\n",
       "      <td>1</td>\n",
       "    </tr>\n",
       "    <tr>\n",
       "      <th>7</th>\n",
       "      <td>RT @ashwaniattrish: @HPCL @HemantSirohi1 @dpra...</td>\n",
       "      <td>140</td>\n",
       "      <td>1047049554657460226</td>\n",
       "      <td>2018-10-02 09:04:01</td>\n",
       "      <td>Twitter for Android</td>\n",
       "      <td>0</td>\n",
       "      <td>2</td>\n",
       "      <td>0</td>\n",
       "    </tr>\n",
       "    <tr>\n",
       "      <th>8</th>\n",
       "      <td>RT @anantrao: @narendramodi @PMOIndia @rajnath...</td>\n",
       "      <td>139</td>\n",
       "      <td>1047049554049294336</td>\n",
       "      <td>2018-10-02 09:04:01</td>\n",
       "      <td>Twitter for Android</td>\n",
       "      <td>0</td>\n",
       "      <td>6</td>\n",
       "      <td>0</td>\n",
       "    </tr>\n",
       "    <tr>\n",
       "      <th>9</th>\n",
       "      <td>RT @MissionBJP2019: 4 साल पहले, खुले में शौच क...</td>\n",
       "      <td>139</td>\n",
       "      <td>1047049550983303168</td>\n",
       "      <td>2018-10-02 09:04:00</td>\n",
       "      <td>Twitter for Android</td>\n",
       "      <td>0</td>\n",
       "      <td>39</td>\n",
       "      <td>0</td>\n",
       "    </tr>\n",
       "  </tbody>\n",
       "</table>\n",
       "</div>"
      ],
      "text/plain": [
       "                                              Tweets  len  \\\n",
       "0  RT @THarishyam: #WeWantOurHomes #FundNBCC @nar...  144   \n",
       "1  RT @bhati_jyotika: Where is our country going ...  140   \n",
       "2  RT @rubyyadavbjp: प्रधान सेवक की नीतियों का हो...  140   \n",
       "3  RT @UNICEFIndia: We need four Ps to make #Swac...  140   \n",
       "4  @narendramodi ये किसान नहीं है किसान के भेष मे...  139   \n",
       "5  RT @AnkitLal: गांधी जी और लाल बहादुर शास्त्री ...  140   \n",
       "6  @sanjeevrsingh @narendramodi Who has given rig...  140   \n",
       "7  RT @ashwaniattrish: @HPCL @HemantSirohi1 @dpra...  140   \n",
       "8  RT @anantrao: @narendramodi @PMOIndia @rajnath...  139   \n",
       "9  RT @MissionBJP2019: 4 साल पहले, खुले में शौच क...  139   \n",
       "\n",
       "                    ID                Date               Source  Likes  RTs  \\\n",
       "0  1047049566850363392 2018-10-02 09:04:04  Twitter for Android      0    7   \n",
       "1  1047049563914342400 2018-10-02 09:04:03  Twitter for Android      0   18   \n",
       "2  1047049562161057794 2018-10-02 09:04:03  Twitter for Android      0   16   \n",
       "3  1047049557195010049 2018-10-02 09:04:02  Twitter for Android      0    3   \n",
       "4  1047049557035626496 2018-10-02 09:04:02   Twitter for iPhone      0    0   \n",
       "5  1047049556733640705 2018-10-02 09:04:02   Twitter for iPhone      0   19   \n",
       "6  1047049556729454592 2018-10-02 09:04:02  Twitter for Android      0    0   \n",
       "7  1047049554657460226 2018-10-02 09:04:01  Twitter for Android      0    2   \n",
       "8  1047049554049294336 2018-10-02 09:04:01  Twitter for Android      0    6   \n",
       "9  1047049550983303168 2018-10-02 09:04:00  Twitter for Android      0   39   \n",
       "\n",
       "   SA  \n",
       "0  -1  \n",
       "1   0  \n",
       "2   0  \n",
       "3   1  \n",
       "4   0  \n",
       "5   0  \n",
       "6   1  \n",
       "7   0  \n",
       "8   0  \n",
       "9   0  "
      ]
     },
     "metadata": {},
     "output_type": "display_data"
    }
   ],
   "source": [
    "# We create a column with the result of the analysis:\n",
    "data['SA'] = np.array([ analize_sentiment(tweet) for tweet in data['Tweets'] ])\n",
    "\n",
    "# We display the updated dataframe with the new column:\n",
    "display(data.head(10))"
   ]
  },
  {
   "cell_type": "code",
   "execution_count": 19,
   "metadata": {},
   "outputs": [],
   "source": [
    "# We construct lists with classified tweets:\n",
    "\n",
    "pos_tweets = [ tweet for index, tweet in enumerate(data['Tweets']) if data['SA'][index] > 0]\n",
    "neu_tweets = [ tweet for index, tweet in enumerate(data['Tweets']) if data['SA'][index] == 0]\n",
    "neg_tweets = [ tweet for index, tweet in enumerate(data['Tweets']) if data['SA'][index] < 0]"
   ]
  },
  {
   "cell_type": "code",
   "execution_count": 20,
   "metadata": {},
   "outputs": [
    {
     "name": "stdout",
     "output_type": "stream",
     "text": [
      "Percentage of positive tweets: 17.0%\n",
      "Percentage of neutral tweets: 76.0%\n",
      "Percentage of negative tweets: 7.0%\n"
     ]
    }
   ],
   "source": [
    "# We print percentages:\n",
    "\n",
    "print(\"Percentage of positive tweets: {}%\".format(len(pos_tweets)*100/len(data['Tweets'])))\n",
    "print(\"Percentage of neutral tweets: {}%\".format(len(neu_tweets)*100/len(data['Tweets'])))\n",
    "print(\"Percentage of negative tweets: {}%\".format(len(neg_tweets)*100/len(data['Tweets'])))"
   ]
  }
 ],
 "metadata": {
  "kernelspec": {
   "display_name": "Python 3",
   "language": "python",
   "name": "python3"
  },
  "language_info": {
   "codemirror_mode": {
    "name": "ipython",
    "version": 3
   },
   "file_extension": ".py",
   "mimetype": "text/x-python",
   "name": "python",
   "nbconvert_exporter": "python",
   "pygments_lexer": "ipython3",
   "version": "3.5.5"
  }
 },
 "nbformat": 4,
 "nbformat_minor": 2
}
