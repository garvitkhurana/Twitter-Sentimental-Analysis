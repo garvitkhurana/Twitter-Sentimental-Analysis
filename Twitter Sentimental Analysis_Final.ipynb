{
 "cells": [
  {
   "cell_type": "markdown",
   "metadata": {},
   "source": [
    "# Query based Sentiment Analysis using Python"
   ]
  },
  {
   "cell_type": "code",
   "execution_count": 1,
   "metadata": {},
   "outputs": [],
   "source": [
    "# General:\n",
    "import tweepy           # To consume Twitter's API\n",
    "import pandas as pd     # To handle data\n",
    "import numpy as np      # For number computing\n",
    "\n",
    "# For plotting and visualization:\n",
    "from IPython.display import display\n",
    "import matplotlib.pyplot as plt\n",
    "import seaborn as sns\n",
    "%matplotlib inline"
   ]
  },
  {
   "cell_type": "markdown",
   "metadata": {},
   "source": [
    "# Creating a Twitter App"
   ]
  },
  {
   "cell_type": "code",
   "execution_count": 2,
   "metadata": {},
   "outputs": [],
   "source": [
    "# Twitter App access keys for @user\n",
    "\n",
    "# Consume:\n",
    "CONSUMER_KEY    = 'yzxNyCyjkVJJrpNY0L3AphSVV'\n",
    "CONSUMER_SECRET = 'e7xhbuIqTM520PCtwGrSrSIXWyrQbH7ckr9s0ToOlQE6tek4OP'\n",
    "\n",
    "# Access:\n",
    "ACCESS_TOKEN  = '2186056028-BPexxHqPrML7hcvwIuLfX3itD8IZPqguuksDHtn'\n",
    "ACCESS_SECRET = 'vvhbgIqa7jK5nBAO9P4Mh1MTFvJdWH3Fl5bbzGhai9Dah'"
   ]
  },
  {
   "cell_type": "code",
   "execution_count": 3,
   "metadata": {},
   "outputs": [],
   "source": [
    "# We import our access keys:\n",
    "from credentials import *    # This will allow us to use the keys as variables\n",
    "\n",
    "# API's setup:\n",
    "def twitter_setup():\n",
    "    \"\"\"\n",
    "    Utility function to setup the Twitter's API\n",
    "    with our access keys provided.\n",
    "    \"\"\"\n",
    "    # Authentication and access using keys:\n",
    "    auth = tweepy.OAuthHandler(CONSUMER_KEY, CONSUMER_SECRET)\n",
    "    auth.set_access_token(ACCESS_TOKEN, ACCESS_SECRET)\n",
    "\n",
    "    # Return API with authentication:\n",
    "    api = tweepy.API(auth)\n",
    "    return api"
   ]
  },
  {
   "cell_type": "code",
   "execution_count": 4,
   "metadata": {},
   "outputs": [],
   "source": [
    "query=\"shah rukh khan\" # Enter user or query"
   ]
  },
  {
   "cell_type": "code",
   "execution_count": 5,
   "metadata": {},
   "outputs": [
    {
     "name": "stdout",
     "output_type": "stream",
     "text": [
      "Number of tweets extracted: 100.\n",
      "\n",
      "5 recent tweets:\n",
      "\n",
      "RT @SRKsCombatant: There's No Other Indian Cinema Artist / Filmmaker in \"365 People Who Changed The World\" List  Except Shah Rukh Khan (193…\n",
      "\n",
      "RT @mystery0725: Aayush: The only superhero in the industry who isn’t  married is #SalmanKhan; rest everyone is married. Shah Rukh Khan was…\n",
      "\n",
      "RT @soniamedit: @blitzkreigm @SRKFC1 @NASA @iamsrk “Swades”/ “Homeland”: What a great film and Shah Rukh Khan, what a brilliant performance!\n",
      "\n",
      "RT @SRKsCombatant: There's No Other Indian Cinema Artist / Filmmaker in \"365 People Who Changed The World\" List  Except Shah Rukh Khan (193…\n",
      "\n",
      "RT @SRKsCombatant: There's No Other Indian Cinema Artist / Filmmaker in \"365 People Who Changed The World\" List  Except Shah Rukh Khan (193…\n",
      "\n"
     ]
    }
   ],
   "source": [
    "# We create an extractor object:\n",
    "extractor = twitter_setup()\n",
    "\n",
    "# We create a tweet list based on query:\n",
    "tweets = extractor.search(q=query, count=100)\n",
    "\n",
    "# We create a tweet list based on user\n",
    "#tweets = extractor.user_timeline(screen_name=query, count=100)\n",
    "\n",
    "print(\"Number of tweets extracted: {}.\\n\".format(len(tweets)))\n",
    "\n",
    "# We print the most recent 5 tweets:\n",
    "print(\"5 recent tweets:\\n\")\n",
    "for tweet in tweets[:5]:\n",
    "    print(tweet.text)\n",
    "    print()"
   ]
  },
  {
   "cell_type": "code",
   "execution_count": 6,
   "metadata": {},
   "outputs": [
    {
     "data": {
      "text/html": [
       "<div>\n",
       "<style scoped>\n",
       "    .dataframe tbody tr th:only-of-type {\n",
       "        vertical-align: middle;\n",
       "    }\n",
       "\n",
       "    .dataframe tbody tr th {\n",
       "        vertical-align: top;\n",
       "    }\n",
       "\n",
       "    .dataframe thead th {\n",
       "        text-align: right;\n",
       "    }\n",
       "</style>\n",
       "<table border=\"1\" class=\"dataframe\">\n",
       "  <thead>\n",
       "    <tr style=\"text-align: right;\">\n",
       "      <th></th>\n",
       "      <th>Tweets</th>\n",
       "    </tr>\n",
       "  </thead>\n",
       "  <tbody>\n",
       "    <tr>\n",
       "      <th>0</th>\n",
       "      <td>RT @SRKsCombatant: There's No Other Indian Cin...</td>\n",
       "    </tr>\n",
       "    <tr>\n",
       "      <th>1</th>\n",
       "      <td>RT @mystery0725: Aayush: The only superhero in...</td>\n",
       "    </tr>\n",
       "    <tr>\n",
       "      <th>2</th>\n",
       "      <td>RT @soniamedit: @blitzkreigm @SRKFC1 @NASA @ia...</td>\n",
       "    </tr>\n",
       "    <tr>\n",
       "      <th>3</th>\n",
       "      <td>RT @SRKsCombatant: There's No Other Indian Cin...</td>\n",
       "    </tr>\n",
       "    <tr>\n",
       "      <th>4</th>\n",
       "      <td>RT @SRKsCombatant: There's No Other Indian Cin...</td>\n",
       "    </tr>\n",
       "    <tr>\n",
       "      <th>5</th>\n",
       "      <td>RT @SRKsCombatant: There's No Other Indian Cin...</td>\n",
       "    </tr>\n",
       "    <tr>\n",
       "      <th>6</th>\n",
       "      <td>RT @imran_srkian: Shah Rukh Khan with a lucky ...</td>\n",
       "    </tr>\n",
       "    <tr>\n",
       "      <th>7</th>\n",
       "      <td>There's No Other Indian Cinema Artist / Filmma...</td>\n",
       "    </tr>\n",
       "    <tr>\n",
       "      <th>8</th>\n",
       "      <td>RT @ieEntertainment: .@iamsrk has asked his fo...</td>\n",
       "    </tr>\n",
       "    <tr>\n",
       "      <th>9</th>\n",
       "      <td>RT @SRKUniverse: \"You should work in a manner ...</td>\n",
       "    </tr>\n",
       "  </tbody>\n",
       "</table>\n",
       "</div>"
      ],
      "text/plain": [
       "                                              Tweets\n",
       "0  RT @SRKsCombatant: There's No Other Indian Cin...\n",
       "1  RT @mystery0725: Aayush: The only superhero in...\n",
       "2  RT @soniamedit: @blitzkreigm @SRKFC1 @NASA @ia...\n",
       "3  RT @SRKsCombatant: There's No Other Indian Cin...\n",
       "4  RT @SRKsCombatant: There's No Other Indian Cin...\n",
       "5  RT @SRKsCombatant: There's No Other Indian Cin...\n",
       "6  RT @imran_srkian: Shah Rukh Khan with a lucky ...\n",
       "7  There's No Other Indian Cinema Artist / Filmma...\n",
       "8  RT @ieEntertainment: .@iamsrk has asked his fo...\n",
       "9  RT @SRKUniverse: \"You should work in a manner ..."
      ]
     },
     "metadata": {},
     "output_type": "display_data"
    }
   ],
   "source": [
    "# We create a pandas dataframe as follows:\n",
    "data = pd.DataFrame(data=[tweet.text for tweet in tweets], columns=['Tweets'])\n",
    "\n",
    "# We display the first 10 elements of the dataframe:\n",
    "display(data.head(10))"
   ]
  },
  {
   "cell_type": "code",
   "execution_count": 7,
   "metadata": {},
   "outputs": [
    {
     "name": "stdout",
     "output_type": "stream",
     "text": [
      "['__class__', '__delattr__', '__dict__', '__dir__', '__doc__', '__eq__', '__format__', '__ge__', '__getattribute__', '__getstate__', '__gt__', '__hash__', '__init__', '__le__', '__lt__', '__module__', '__ne__', '__new__', '__reduce__', '__reduce_ex__', '__repr__', '__setattr__', '__sizeof__', '__str__', '__subclasshook__', '__weakref__', '_api', '_json', 'author', 'contributors', 'coordinates', 'created_at', 'destroy', 'entities', 'favorite', 'favorite_count', 'favorited', 'geo', 'id', 'id_str', 'in_reply_to_screen_name', 'in_reply_to_status_id', 'in_reply_to_status_id_str', 'in_reply_to_user_id', 'in_reply_to_user_id_str', 'is_quote_status', 'lang', 'metadata', 'parse', 'parse_list', 'place', 'retweet', 'retweet_count', 'retweeted', 'retweeted_status', 'retweets', 'source', 'source_url', 'text', 'truncated', 'user']\n"
     ]
    }
   ],
   "source": [
    "# Internal methods of a single tweet object:\n",
    "print(dir(tweets[0]))"
   ]
  },
  {
   "cell_type": "markdown",
   "metadata": {},
   "source": [
    "# Adding relevant info to our dataframe"
   ]
  },
  {
   "cell_type": "code",
   "execution_count": 8,
   "metadata": {},
   "outputs": [],
   "source": [
    "# We add relevant data:\n",
    "data['len']  = np.array([len(tweet.text) for tweet in tweets])\n",
    "data['ID']   = np.array([tweet.id for tweet in tweets])\n",
    "data['Date'] = np.array([tweet.created_at for tweet in tweets])\n",
    "data['Source'] = np.array([tweet.source for tweet in tweets])\n",
    "data['Likes']  = np.array([tweet.favorite_count for tweet in tweets])\n",
    "data['RTs']    = np.array([tweet.retweet_count for tweet in tweets])\n",
    "data['Language'] = np.array([tweet.lang for tweet in tweets])\n"
   ]
  },
  {
   "cell_type": "code",
   "execution_count": 9,
   "metadata": {},
   "outputs": [
    {
     "data": {
      "text/html": [
       "<div>\n",
       "<style scoped>\n",
       "    .dataframe tbody tr th:only-of-type {\n",
       "        vertical-align: middle;\n",
       "    }\n",
       "\n",
       "    .dataframe tbody tr th {\n",
       "        vertical-align: top;\n",
       "    }\n",
       "\n",
       "    .dataframe thead th {\n",
       "        text-align: right;\n",
       "    }\n",
       "</style>\n",
       "<table border=\"1\" class=\"dataframe\">\n",
       "  <thead>\n",
       "    <tr style=\"text-align: right;\">\n",
       "      <th></th>\n",
       "      <th>Tweets</th>\n",
       "      <th>len</th>\n",
       "      <th>ID</th>\n",
       "      <th>Date</th>\n",
       "      <th>Source</th>\n",
       "      <th>Likes</th>\n",
       "      <th>RTs</th>\n",
       "      <th>Language</th>\n",
       "    </tr>\n",
       "  </thead>\n",
       "  <tbody>\n",
       "    <tr>\n",
       "      <th>0</th>\n",
       "      <td>RT @SRKsCombatant: There's No Other Indian Cin...</td>\n",
       "      <td>140</td>\n",
       "      <td>1047055278624202752</td>\n",
       "      <td>2018-10-02 09:26:46</td>\n",
       "      <td>Twitter for Android</td>\n",
       "      <td>0</td>\n",
       "      <td>5</td>\n",
       "      <td>en</td>\n",
       "    </tr>\n",
       "    <tr>\n",
       "      <th>1</th>\n",
       "      <td>RT @mystery0725: Aayush: The only superhero in...</td>\n",
       "      <td>140</td>\n",
       "      <td>1047055155429027841</td>\n",
       "      <td>2018-10-02 09:26:17</td>\n",
       "      <td>Twitter for iPhone</td>\n",
       "      <td>0</td>\n",
       "      <td>14</td>\n",
       "      <td>en</td>\n",
       "    </tr>\n",
       "    <tr>\n",
       "      <th>2</th>\n",
       "      <td>RT @soniamedit: @blitzkreigm @SRKFC1 @NASA @ia...</td>\n",
       "      <td>140</td>\n",
       "      <td>1047055099275726855</td>\n",
       "      <td>2018-10-02 09:26:03</td>\n",
       "      <td>Twitter Lite</td>\n",
       "      <td>0</td>\n",
       "      <td>5</td>\n",
       "      <td>en</td>\n",
       "    </tr>\n",
       "    <tr>\n",
       "      <th>3</th>\n",
       "      <td>RT @SRKsCombatant: There's No Other Indian Cin...</td>\n",
       "      <td>140</td>\n",
       "      <td>1047055093659504643</td>\n",
       "      <td>2018-10-02 09:26:02</td>\n",
       "      <td>Twitter Lite</td>\n",
       "      <td>0</td>\n",
       "      <td>5</td>\n",
       "      <td>en</td>\n",
       "    </tr>\n",
       "    <tr>\n",
       "      <th>4</th>\n",
       "      <td>RT @SRKsCombatant: There's No Other Indian Cin...</td>\n",
       "      <td>140</td>\n",
       "      <td>1047055089544966144</td>\n",
       "      <td>2018-10-02 09:26:01</td>\n",
       "      <td>Twitter Lite</td>\n",
       "      <td>0</td>\n",
       "      <td>5</td>\n",
       "      <td>en</td>\n",
       "    </tr>\n",
       "    <tr>\n",
       "      <th>5</th>\n",
       "      <td>RT @SRKsCombatant: There's No Other Indian Cin...</td>\n",
       "      <td>140</td>\n",
       "      <td>1047054990802657280</td>\n",
       "      <td>2018-10-02 09:25:37</td>\n",
       "      <td>Twitter for Android</td>\n",
       "      <td>0</td>\n",
       "      <td>5</td>\n",
       "      <td>en</td>\n",
       "    </tr>\n",
       "    <tr>\n",
       "      <th>6</th>\n",
       "      <td>RT @imran_srkian: Shah Rukh Khan with a lucky ...</td>\n",
       "      <td>118</td>\n",
       "      <td>1047054717178793991</td>\n",
       "      <td>2018-10-02 09:24:32</td>\n",
       "      <td>Twitter Lite</td>\n",
       "      <td>0</td>\n",
       "      <td>1</td>\n",
       "      <td>en</td>\n",
       "    </tr>\n",
       "    <tr>\n",
       "      <th>7</th>\n",
       "      <td>There's No Other Indian Cinema Artist / Filmma...</td>\n",
       "      <td>140</td>\n",
       "      <td>1047054668801740800</td>\n",
       "      <td>2018-10-02 09:24:21</td>\n",
       "      <td>Twitter for Android</td>\n",
       "      <td>4</td>\n",
       "      <td>5</td>\n",
       "      <td>en</td>\n",
       "    </tr>\n",
       "    <tr>\n",
       "      <th>8</th>\n",
       "      <td>RT @ieEntertainment: .@iamsrk has asked his fo...</td>\n",
       "      <td>140</td>\n",
       "      <td>1047054528678436865</td>\n",
       "      <td>2018-10-02 09:23:47</td>\n",
       "      <td>Twitter for iPhone</td>\n",
       "      <td>0</td>\n",
       "      <td>18</td>\n",
       "      <td>en</td>\n",
       "    </tr>\n",
       "    <tr>\n",
       "      <th>9</th>\n",
       "      <td>RT @SRKUniverse: \"You should work in a manner ...</td>\n",
       "      <td>140</td>\n",
       "      <td>1047054151585320960</td>\n",
       "      <td>2018-10-02 09:22:17</td>\n",
       "      <td>Twitter for Android</td>\n",
       "      <td>0</td>\n",
       "      <td>102</td>\n",
       "      <td>en</td>\n",
       "    </tr>\n",
       "  </tbody>\n",
       "</table>\n",
       "</div>"
      ],
      "text/plain": [
       "                                              Tweets  len  \\\n",
       "0  RT @SRKsCombatant: There's No Other Indian Cin...  140   \n",
       "1  RT @mystery0725: Aayush: The only superhero in...  140   \n",
       "2  RT @soniamedit: @blitzkreigm @SRKFC1 @NASA @ia...  140   \n",
       "3  RT @SRKsCombatant: There's No Other Indian Cin...  140   \n",
       "4  RT @SRKsCombatant: There's No Other Indian Cin...  140   \n",
       "5  RT @SRKsCombatant: There's No Other Indian Cin...  140   \n",
       "6  RT @imran_srkian: Shah Rukh Khan with a lucky ...  118   \n",
       "7  There's No Other Indian Cinema Artist / Filmma...  140   \n",
       "8  RT @ieEntertainment: .@iamsrk has asked his fo...  140   \n",
       "9  RT @SRKUniverse: \"You should work in a manner ...  140   \n",
       "\n",
       "                    ID                Date               Source  Likes  RTs  \\\n",
       "0  1047055278624202752 2018-10-02 09:26:46  Twitter for Android      0    5   \n",
       "1  1047055155429027841 2018-10-02 09:26:17   Twitter for iPhone      0   14   \n",
       "2  1047055099275726855 2018-10-02 09:26:03         Twitter Lite      0    5   \n",
       "3  1047055093659504643 2018-10-02 09:26:02         Twitter Lite      0    5   \n",
       "4  1047055089544966144 2018-10-02 09:26:01         Twitter Lite      0    5   \n",
       "5  1047054990802657280 2018-10-02 09:25:37  Twitter for Android      0    5   \n",
       "6  1047054717178793991 2018-10-02 09:24:32         Twitter Lite      0    1   \n",
       "7  1047054668801740800 2018-10-02 09:24:21  Twitter for Android      4    5   \n",
       "8  1047054528678436865 2018-10-02 09:23:47   Twitter for iPhone      0   18   \n",
       "9  1047054151585320960 2018-10-02 09:22:17  Twitter for Android      0  102   \n",
       "\n",
       "  Language  \n",
       "0       en  \n",
       "1       en  \n",
       "2       en  \n",
       "3       en  \n",
       "4       en  \n",
       "5       en  \n",
       "6       en  \n",
       "7       en  \n",
       "8       en  \n",
       "9       en  "
      ]
     },
     "metadata": {},
     "output_type": "display_data"
    }
   ],
   "source": [
    "# Display of first 10 elements from dataframe:\n",
    "display(data.head(10))"
   ]
  },
  {
   "cell_type": "code",
   "execution_count": 10,
   "metadata": {},
   "outputs": [
    {
     "name": "stdout",
     "output_type": "stream",
     "text": [
      "The lenght's average in tweets: 126.82\n"
     ]
    }
   ],
   "source": [
    "# We extract the mean of lenghts:\n",
    "mean = np.mean(data['len'])\n",
    "\n",
    "print(\"The lenght's average in tweets: {}\".format(mean))"
   ]
  },
  {
   "cell_type": "code",
   "execution_count": 11,
   "metadata": {},
   "outputs": [
    {
     "data": {
      "text/plain": [
       "<matplotlib.axes._subplots.AxesSubplot at 0x110697cc0>"
      ]
     },
     "execution_count": 11,
     "metadata": {},
     "output_type": "execute_result"
    },
    {
     "data": {
      "image/png": "[encoded data removed]",
      "text/plain": [
       "<Figure size 432x288 with 1 Axes>"
      ]
     },
     "metadata": {},
     "output_type": "display_data"
    }
   ],
   "source": [
    "tweets_by_lang = data['Language'].value_counts()\n",
    "\n",
    "fig, ax = plt.subplots()\n",
    "ax.tick_params(axis='x', labelsize=15)\n",
    "ax.tick_params(axis='y', labelsize=10)\n",
    "ax.set_xlabel('Languages', fontsize=15)\n",
    "ax.set_ylabel('Number of tweets' , fontsize=15)\n",
    "ax.set_title('Top 5 languages', fontsize=15, fontweight='bold')\n",
    "tweets_by_lang[:5].plot(ax=ax, kind='bar', color='red')"
   ]
  },
  {
   "cell_type": "code",
   "execution_count": 12,
   "metadata": {},
   "outputs": [
    {
     "name": "stdout",
     "output_type": "stream",
     "text": [
      "The tweet with more likes is: \n",
      "Check out how celebs have wished fans on #GandhiJayanti\n",
      "\n",
      "#MahatmaGandhi #GandhiAt150\n",
      "\n",
      "https://t.co/ewQCVChxJd\n",
      "Number of likes: 43\n",
      "109 characters.\n",
      "\n",
      "The tweet with more retweets is: \n",
      "RT @SRKsCigarette1: WORLD'S BIGGEST MEGASTAR - SHAH RUKH KHAN\n",
      "GOOGLE ✔\n",
      "FORBES ✔\n",
      "CNN ✔\n",
      "WIKIPEDIA ✔\n",
      "LOVE YOU @iamsrk 😍😍😍 https://t.co/Ca4VlJE…\n",
      "Number of retweets: 363\n",
      "140 characters.\n",
      "\n"
     ]
    }
   ],
   "source": [
    "# We extract the tweet with more FAVs and more RTs:\n",
    "\n",
    "fav_max = np.max(data['Likes'])\n",
    "rt_max  = np.max(data['RTs'])\n",
    "\n",
    "fav = data[data.Likes == fav_max].index[0]\n",
    "rt  = data[data.RTs == rt_max].index[0]\n",
    "\n",
    "# Max FAVs:\n",
    "print(\"The tweet with more likes is: \\n{}\".format(data['Tweets'][fav]))\n",
    "print(\"Number of likes: {}\".format(fav_max))\n",
    "print(\"{} characters.\\n\".format(data['len'][fav]))\n",
    "\n",
    "# Max RTs:\n",
    "print(\"The tweet with more retweets is: \\n{}\".format(data['Tweets'][rt]))\n",
    "print(\"Number of retweets: {}\".format(rt_max))\n",
    "print(\"{} characters.\\n\".format(data['len'][rt]))"
   ]
  },
  {
   "cell_type": "markdown",
   "metadata": {},
   "source": [
    "# Time series of Tweets"
   ]
  },
  {
   "cell_type": "code",
   "execution_count": 13,
   "metadata": {},
   "outputs": [],
   "source": [
    "# We create time series for data:\n",
    "\n",
    "tlen = pd.Series(data=data['len'].values, index=data['Date'])\n",
    "tfav = pd.Series(data=data['Likes'].values, index=data['Date'])\n",
    "tret = pd.Series(data=data['RTs'].values, index=data['Date'])"
   ]
  },
  {
   "cell_type": "code",
   "execution_count": 14,
   "metadata": {},
   "outputs": [
    {
     "data": {
      "image/png": "[encoded data removed]",
      "text/plain": [
       "<Figure size 1152x288 with 1 Axes>"
      ]
     },
     "metadata": {},
     "output_type": "display_data"
    }
   ],
   "source": [
    "# Lenghts along time:\n",
    "tlen.plot(figsize=(16,4), color='r');"
   ]
  },
  {
   "cell_type": "code",
   "execution_count": 15,
   "metadata": {},
   "outputs": [
    {
     "data": {
      "image/png": "[encoded data removed]",
      "text/plain": [
       "<Figure size 1152x288 with 1 Axes>"
      ]
     },
     "metadata": {},
     "output_type": "display_data"
    }
   ],
   "source": [
    "# Likes vs retweets visualization:\n",
    "tfav.plot(figsize=(16,4), label=\"Likes\", legend=True)\n",
    "tret.plot(figsize=(16,4), label=\"Retweets\", legend=True);"
   ]
  },
  {
   "cell_type": "markdown",
   "metadata": {},
   "source": [
    "# Pie charts of sources"
   ]
  },
  {
   "cell_type": "code",
   "execution_count": 16,
   "metadata": {},
   "outputs": [
    {
     "name": "stdout",
     "output_type": "stream",
     "text": [
      "Creation of content sources:\n",
      "* Twitter for Android\n",
      "* Twitter for iPhone\n",
      "* Twitter Lite\n",
      "* ManageFlitter\n",
      "* Google\n",
      "* Twitter Web Client\n",
      "* Mobile Web (M2)\n",
      "* Blomage\n",
      "* IFTTT\n",
      "* dlvr.it\n",
      "* TweetDeck\n"
     ]
    }
   ],
   "source": [
    "# We obtain all possible sources:\n",
    "sources = []\n",
    "for source in data['Source']:\n",
    "    if source not in sources:\n",
    "        sources.append(source)\n",
    "\n",
    "# We print sources list:\n",
    "print(\"Creation of content sources:\")\n",
    "for source in sources:\n",
    "    print(\"* {}\".format(source))"
   ]
  },
  {
   "cell_type": "code",
   "execution_count": 17,
   "metadata": {},
   "outputs": [
    {
     "data": {
      "image/png": "[encoded data removed]",
      "text/plain": [
       "<Figure size 720x576 with 1 Axes>"
      ]
     },
     "metadata": {},
     "output_type": "display_data"
    }
   ],
   "source": [
    "# We create a numpy vector mapped to labels:\n",
    "percent = np.zeros(len(sources))\n",
    "\n",
    "for source in data['Source']:\n",
    "    for index in range(len(sources)):\n",
    "        if source == sources[index]:\n",
    "            percent[index] += 1\n",
    "            pass\n",
    "\n",
    "percent /= 100\n",
    "\n",
    "# Pie chart:\n",
    "pie_chart = pd.Series(percent, index=sources, name='Sources')\n",
    "pie_chart.plot.pie(fontsize=11, autopct='%.2f', figsize=(10,8));"
   ]
  },
  {
   "cell_type": "markdown",
   "metadata": {},
   "source": [
    "# Sentiment analysis"
   ]
  },
  {
   "cell_type": "code",
   "execution_count": 18,
   "metadata": {},
   "outputs": [],
   "source": [
    "from textblob import TextBlob\n",
    "import re\n",
    "\n",
    "def clean_tweet(tweet):\n",
    "    '''\n",
    "    Utility function to clean the text in a tweet by removing \n",
    "    links and special characters using regex.\n",
    "    '''\n",
    "    return ' '.join(re.sub(\"(@[A-Za-z0-9]+)|([^0-9A-Za-z \\t])|(\\w+:\\/\\/\\S+)\", \" \", tweet).split())\n",
    "\n",
    "def analize_sentiment(tweet):\n",
    "    '''\n",
    "    Utility function to classify the polarity of a tweet\n",
    "    using textblob.\n",
    "    '''\n",
    "    analysis = TextBlob(clean_tweet(tweet))\n",
    "    if analysis.sentiment.polarity > 0:\n",
    "        return 1\n",
    "    elif analysis.sentiment.polarity == 0:\n",
    "        return 0\n",
    "    else:\n",
    "        return -1"
   ]
  },
  {
   "cell_type": "code",
   "execution_count": 19,
   "metadata": {},
   "outputs": [
    {
     "data": {
      "text/html": [
       "<div>\n",
       "<style scoped>\n",
       "    .dataframe tbody tr th:only-of-type {\n",
       "        vertical-align: middle;\n",
       "    }\n",
       "\n",
       "    .dataframe tbody tr th {\n",
       "        vertical-align: top;\n",
       "    }\n",
       "\n",
       "    .dataframe thead th {\n",
       "        text-align: right;\n",
       "    }\n",
       "</style>\n",
       "<table border=\"1\" class=\"dataframe\">\n",
       "  <thead>\n",
       "    <tr style=\"text-align: right;\">\n",
       "      <th></th>\n",
       "      <th>Tweets</th>\n",
       "      <th>len</th>\n",
       "      <th>ID</th>\n",
       "      <th>Date</th>\n",
       "      <th>Source</th>\n",
       "      <th>Likes</th>\n",
       "      <th>RTs</th>\n",
       "      <th>Language</th>\n",
       "      <th>SA</th>\n",
       "    </tr>\n",
       "  </thead>\n",
       "  <tbody>\n",
       "    <tr>\n",
       "      <th>0</th>\n",
       "      <td>RT @SRKsCombatant: There's No Other Indian Cin...</td>\n",
       "      <td>140</td>\n",
       "      <td>1047055278624202752</td>\n",
       "      <td>2018-10-02 09:26:46</td>\n",
       "      <td>Twitter for Android</td>\n",
       "      <td>0</td>\n",
       "      <td>5</td>\n",
       "      <td>en</td>\n",
       "      <td>1</td>\n",
       "    </tr>\n",
       "    <tr>\n",
       "      <th>1</th>\n",
       "      <td>RT @mystery0725: Aayush: The only superhero in...</td>\n",
       "      <td>140</td>\n",
       "      <td>1047055155429027841</td>\n",
       "      <td>2018-10-02 09:26:17</td>\n",
       "      <td>Twitter for iPhone</td>\n",
       "      <td>0</td>\n",
       "      <td>14</td>\n",
       "      <td>en</td>\n",
       "      <td>1</td>\n",
       "    </tr>\n",
       "    <tr>\n",
       "      <th>2</th>\n",
       "      <td>RT @soniamedit: @blitzkreigm @SRKFC1 @NASA @ia...</td>\n",
       "      <td>140</td>\n",
       "      <td>1047055099275726855</td>\n",
       "      <td>2018-10-02 09:26:03</td>\n",
       "      <td>Twitter Lite</td>\n",
       "      <td>0</td>\n",
       "      <td>5</td>\n",
       "      <td>en</td>\n",
       "      <td>1</td>\n",
       "    </tr>\n",
       "    <tr>\n",
       "      <th>3</th>\n",
       "      <td>RT @SRKsCombatant: There's No Other Indian Cin...</td>\n",
       "      <td>140</td>\n",
       "      <td>1047055093659504643</td>\n",
       "      <td>2018-10-02 09:26:02</td>\n",
       "      <td>Twitter Lite</td>\n",
       "      <td>0</td>\n",
       "      <td>5</td>\n",
       "      <td>en</td>\n",
       "      <td>1</td>\n",
       "    </tr>\n",
       "    <tr>\n",
       "      <th>4</th>\n",
       "      <td>RT @SRKsCombatant: There's No Other Indian Cin...</td>\n",
       "      <td>140</td>\n",
       "      <td>1047055089544966144</td>\n",
       "      <td>2018-10-02 09:26:01</td>\n",
       "      <td>Twitter Lite</td>\n",
       "      <td>0</td>\n",
       "      <td>5</td>\n",
       "      <td>en</td>\n",
       "      <td>1</td>\n",
       "    </tr>\n",
       "    <tr>\n",
       "      <th>5</th>\n",
       "      <td>RT @SRKsCombatant: There's No Other Indian Cin...</td>\n",
       "      <td>140</td>\n",
       "      <td>1047054990802657280</td>\n",
       "      <td>2018-10-02 09:25:37</td>\n",
       "      <td>Twitter for Android</td>\n",
       "      <td>0</td>\n",
       "      <td>5</td>\n",
       "      <td>en</td>\n",
       "      <td>1</td>\n",
       "    </tr>\n",
       "    <tr>\n",
       "      <th>6</th>\n",
       "      <td>RT @imran_srkian: Shah Rukh Khan with a lucky ...</td>\n",
       "      <td>118</td>\n",
       "      <td>1047054717178793991</td>\n",
       "      <td>2018-10-02 09:24:32</td>\n",
       "      <td>Twitter Lite</td>\n",
       "      <td>0</td>\n",
       "      <td>1</td>\n",
       "      <td>en</td>\n",
       "      <td>1</td>\n",
       "    </tr>\n",
       "    <tr>\n",
       "      <th>7</th>\n",
       "      <td>There's No Other Indian Cinema Artist / Filmma...</td>\n",
       "      <td>140</td>\n",
       "      <td>1047054668801740800</td>\n",
       "      <td>2018-10-02 09:24:21</td>\n",
       "      <td>Twitter for Android</td>\n",
       "      <td>4</td>\n",
       "      <td>5</td>\n",
       "      <td>en</td>\n",
       "      <td>1</td>\n",
       "    </tr>\n",
       "    <tr>\n",
       "      <th>8</th>\n",
       "      <td>RT @ieEntertainment: .@iamsrk has asked his fo...</td>\n",
       "      <td>140</td>\n",
       "      <td>1047054528678436865</td>\n",
       "      <td>2018-10-02 09:23:47</td>\n",
       "      <td>Twitter for iPhone</td>\n",
       "      <td>0</td>\n",
       "      <td>18</td>\n",
       "      <td>en</td>\n",
       "      <td>1</td>\n",
       "    </tr>\n",
       "    <tr>\n",
       "      <th>9</th>\n",
       "      <td>RT @SRKUniverse: \"You should work in a manner ...</td>\n",
       "      <td>140</td>\n",
       "      <td>1047054151585320960</td>\n",
       "      <td>2018-10-02 09:22:17</td>\n",
       "      <td>Twitter for Android</td>\n",
       "      <td>0</td>\n",
       "      <td>102</td>\n",
       "      <td>en</td>\n",
       "      <td>0</td>\n",
       "    </tr>\n",
       "  </tbody>\n",
       "</table>\n",
       "</div>"
      ],
      "text/plain": [
       "                                              Tweets  len  \\\n",
       "0  RT @SRKsCombatant: There's No Other Indian Cin...  140   \n",
       "1  RT @mystery0725: Aayush: The only superhero in...  140   \n",
       "2  RT @soniamedit: @blitzkreigm @SRKFC1 @NASA @ia...  140   \n",
       "3  RT @SRKsCombatant: There's No Other Indian Cin...  140   \n",
       "4  RT @SRKsCombatant: There's No Other Indian Cin...  140   \n",
       "5  RT @SRKsCombatant: There's No Other Indian Cin...  140   \n",
       "6  RT @imran_srkian: Shah Rukh Khan with a lucky ...  118   \n",
       "7  There's No Other Indian Cinema Artist / Filmma...  140   \n",
       "8  RT @ieEntertainment: .@iamsrk has asked his fo...  140   \n",
       "9  RT @SRKUniverse: \"You should work in a manner ...  140   \n",
       "\n",
       "                    ID                Date               Source  Likes  RTs  \\\n",
       "0  1047055278624202752 2018-10-02 09:26:46  Twitter for Android      0    5   \n",
       "1  1047055155429027841 2018-10-02 09:26:17   Twitter for iPhone      0   14   \n",
       "2  1047055099275726855 2018-10-02 09:26:03         Twitter Lite      0    5   \n",
       "3  1047055093659504643 2018-10-02 09:26:02         Twitter Lite      0    5   \n",
       "4  1047055089544966144 2018-10-02 09:26:01         Twitter Lite      0    5   \n",
       "5  1047054990802657280 2018-10-02 09:25:37  Twitter for Android      0    5   \n",
       "6  1047054717178793991 2018-10-02 09:24:32         Twitter Lite      0    1   \n",
       "7  1047054668801740800 2018-10-02 09:24:21  Twitter for Android      4    5   \n",
       "8  1047054528678436865 2018-10-02 09:23:47   Twitter for iPhone      0   18   \n",
       "9  1047054151585320960 2018-10-02 09:22:17  Twitter for Android      0  102   \n",
       "\n",
       "  Language  SA  \n",
       "0       en   1  \n",
       "1       en   1  \n",
       "2       en   1  \n",
       "3       en   1  \n",
       "4       en   1  \n",
       "5       en   1  \n",
       "6       en   1  \n",
       "7       en   1  \n",
       "8       en   1  \n",
       "9       en   0  "
      ]
     },
     "metadata": {},
     "output_type": "display_data"
    }
   ],
   "source": [
    "# We create a column with the result of the analysis:\n",
    "data['SA'] = np.array([ analize_sentiment(tweet) for tweet in data['Tweets'] ])\n",
    "\n",
    "# We display the updated dataframe with the new column:\n",
    "display(data.head(10))"
   ]
  },
  {
   "cell_type": "code",
   "execution_count": 20,
   "metadata": {},
   "outputs": [],
   "source": [
    "# We construct lists with classified tweets:\n",
    "\n",
    "pos_tweets = [ tweet for index, tweet in enumerate(data['Tweets']) if data['SA'][index] > 0]\n",
    "neu_tweets = [ tweet for index, tweet in enumerate(data['Tweets']) if data['SA'][index] == 0]\n",
    "neg_tweets = [ tweet for index, tweet in enumerate(data['Tweets']) if data['SA'][index] < 0]"
   ]
  },
  {
   "cell_type": "code",
   "execution_count": 21,
   "metadata": {},
   "outputs": [
    {
     "name": "stdout",
     "output_type": "stream",
     "text": [
      "Percentage of positive tweets: 51.0%\n",
      "Percentage of neutral tweets: 49.0%\n",
      "Percentage of negative tweets: 0.0%\n"
     ]
    }
   ],
   "source": [
    "# We print percentages:\n",
    "\n",
    "print(\"Percentage of positive tweets: {}%\".format(len(pos_tweets)*100/len(data['Tweets'])))\n",
    "print(\"Percentage of neutral tweets: {}%\".format(len(neu_tweets)*100/len(data['Tweets'])))\n",
    "print(\"Percentage of negative tweets: {}%\".format(len(neg_tweets)*100/len(data['Tweets'])))"
   ]
  }
 ],
 "metadata": {
  "kernelspec": {
   "display_name": "Python 3",
   "language": "python",
   "name": "python3"
  },
  "language_info": {
   "codemirror_mode": {
    "name": "ipython",
    "version": 3
   },
   "file_extension": ".py",
   "mimetype": "text/x-python",
   "name": "python",
   "nbconvert_exporter": "python",
   "pygments_lexer": "ipython3",
   "version": "3.5.5"
  }
 },
 "nbformat": 4,
 "nbformat_minor": 2
}
