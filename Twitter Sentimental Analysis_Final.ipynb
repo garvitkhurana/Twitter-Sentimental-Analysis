{
 "cells": [
  {
   "cell_type": "markdown",
   "metadata": {},
   "source": [
    "# Query based Sentiment Analysis using Python"
   ]
  },
  {
   "cell_type": "code",
   "execution_count": 1,
   "metadata": {},
   "outputs": [],
   "source": [
    "# General:\n",
    "import tweepy           # To consume Twitter's API\n",
    "import pandas as pd     # To handle data\n",
    "import numpy as np      # For number computing\n",
    "\n",
    "# For plotting and visualization:\n",
    "from IPython.display import display\n",
    "import matplotlib.pyplot as plt\n",
    "import seaborn as sns\n",
    "%matplotlib inline"
   ]
  },
  {
   "cell_type": "markdown",
   "metadata": {},
   "source": [
    "# Creating a Twitter App"
   ]
  },
  {
   "cell_type": "code",
   "execution_count": 2,
   "metadata": {},
   "outputs": [],
   "source": [
    "# Twitter App access keys for @user\n",
    "\n",
    "# Consume:\n",
    "CONSUMER_KEY    = 'yzxNyCyjkVJJrpNY0L3AphSVV'\n",
    "CONSUMER_SECRET = 'e7xhbuIqTM520PCtwGrSrSIXWyrQbH7ckr9s0ToOlQE6tek4OP'\n",
    "\n",
    "# Access:\n",
    "ACCESS_TOKEN  = '2186056028-BPexxHqPrML7hcvwIuLfX3itD8IZPqguuksDHtn'\n",
    "ACCESS_SECRET = 'vvhbgIqa7jK5nBAO9P4Mh1MTFvJdWH3Fl5bbzGhai9Dah'"
   ]
  },
  {
   "cell_type": "code",
   "execution_count": 3,
   "metadata": {},
   "outputs": [],
   "source": [
    "# We import our access keys:\n",
    "from credentials import *    # This will allow us to use the keys as variables\n",
    "\n",
    "# API's setup:\n",
    "def twitter_setup():\n",
    "    \"\"\"\n",
    "    Utility function to setup the Twitter's API\n",
    "    with our access keys provided.\n",
    "    \"\"\"\n",
    "    # Authentication and access using keys:\n",
    "    auth = tweepy.OAuthHandler(CONSUMER_KEY, CONSUMER_SECRET)\n",
    "    auth.set_access_token(ACCESS_TOKEN, ACCESS_SECRET)\n",
    "\n",
    "    # Return API with authentication:\n",
    "    api = tweepy.API(auth)\n",
    "    return api"
   ]
  },
  {
   "cell_type": "code",
   "execution_count": 4,
   "metadata": {},
   "outputs": [
    {
     "name": "stdout",
     "output_type": "stream",
     "text": [
      "#تفطر_كبده\n",
      "#عطنا_تغريده_حلوه\n",
      "#الخميس_الونيس\n",
      "#INDvWI\n",
      "#Yankees\n",
      "최종범\n",
      "Botafogo\n",
      "Batman'da 4\n",
      "Şehitlerimize Allah'tan\n",
      "Dudu\n",
      "Stanton\n",
      "新型スイッチ\n",
      "Roberto Madrazo\n",
      "新型Switch\n",
      "Marielle\n",
      "신나라\n",
      "#مع_او_ضد_الكذب\n",
      "#EXOT9_ComingSoon\n",
      "#BapakHoaxNasional\n",
      "#ThursdayThoughts\n",
      "#perşembe\n",
      "#AHSApocalpyse\n",
      "#天使の日\n",
      "#dierendag\n",
      "#WithYou\n",
      "#يوم_المعلم\n",
      "#RaiEnCrisis\n",
      "#DiaMundialRBD14Años\n",
      "#WorldAnimalDay\n",
      "#المطلق_يوصي_بالتعدد\n",
      "#NationalPoetryDay\n",
      "#4ottobre\n",
      "#あなたの善と悪の割合\n",
      "#OTDirecto4OCT\n",
      "#CopaMX\n",
      "#SeríaShingónTuitear\n",
      "#NOTAfromTomorrow\n",
      "#TTyapılırUcuza\n",
      "#DancingBrasil\n",
      "#Canucks\n",
      "#LiveTheAILife\n",
      "#BeşiktaşınMaçıVar\n",
      "#RIPKamaru\n",
      "#Rohingyas\n",
      "#QuintaDetremuraSDV\n",
      "#TGIDFTrailer\n",
      "#HayvanlarıKorumaGünü\n",
      "#あなたに似ているアニメのキャラクター\n",
      "#Sensex\n",
      "#DaleAlboHastaElFinal\n"
     ]
    }
   ],
   "source": [
    "extractor = twitter_setup()\n",
    "trends1 = extractor.trends_place(1) # from the end of your code\n",
    "# trends1 is a list with only one element in it, which is a \n",
    "# dict which we'll put in data.\n",
    "data = trends1[0] \n",
    "# grab the trends\n",
    "trends = data['trends']\n",
    "# grab the name from each trend\n",
    "names = [trend['name'] for trend in trends]\n",
    "# put all the names together with a ' ' separating them\n",
    "trendsName = \"\\n\".join(names)\n",
    "print(trendsName)"
   ]
  },
  {
   "cell_type": "code",
   "execution_count": 5,
   "metadata": {},
   "outputs": [],
   "source": [
    "query=\"INDvWI\" # Enter user or query"
   ]
  },
  {
   "cell_type": "code",
   "execution_count": 6,
   "metadata": {},
   "outputs": [
    {
     "name": "stdout",
     "output_type": "stream",
     "text": [
      "Number of tweets extracted: 100.\n",
      "\n",
      "5 recent tweets:\n",
      "\n",
      "RT @ICC: Congratulations to @PrithviShaw on receiving his first Test cap from captain @imVkohli. 👏👏\n",
      "\n",
      "#INDvWI https://t.co/hk6uE0ZLby\n",
      "\n",
      "RT @pramz: Fifty on Test debut for Prithvi Shaw. Who's surprised? #INDvWI\n",
      "\n",
      "RT @cricbuzz: Holder is understood to have sustained the injury in Dubai where Windies assembled for pre-series training #INDvWI\n",
      "\n",
      "https://t…\n",
      "\n",
      "@PrithviShaw bright future awaits you mam \n",
      "#PrithviShaw \n",
      "#INDvWI\n",
      "\n",
      "CONGRATULATIONS!!\n",
      "#PrithviShaw hits a brilliant half century on Test debut against #WestIndies. #INDvWI\n",
      "\n"
     ]
    }
   ],
   "source": [
    "# We create an extractor object:\n",
    "extractor = twitter_setup()\n",
    "\n",
    "# We create a tweet list based on query:\n",
    "tweets = extractor.search(q=query, count=100)\n",
    "\n",
    "# We create a tweet list based on user\n",
    "#tweets = extractor.user_timeline(screen_name=query, count=100)\n",
    "\n",
    "print(\"Number of tweets extracted: {}.\\n\".format(len(tweets)))\n",
    "\n",
    "# We print the most recent 5 tweets:\n",
    "print(\"5 recent tweets:\\n\")\n",
    "for tweet in tweets[:5]:\n",
    "    print(tweet.text)\n",
    "    print()"
   ]
  },
  {
   "cell_type": "code",
   "execution_count": 7,
   "metadata": {},
   "outputs": [
    {
     "data": {
      "text/html": [
       "<div>\n",
       "<style scoped>\n",
       "    .dataframe tbody tr th:only-of-type {\n",
       "        vertical-align: middle;\n",
       "    }\n",
       "\n",
       "    .dataframe tbody tr th {\n",
       "        vertical-align: top;\n",
       "    }\n",
       "\n",
       "    .dataframe thead th {\n",
       "        text-align: right;\n",
       "    }\n",
       "</style>\n",
       "<table border=\"1\" class=\"dataframe\">\n",
       "  <thead>\n",
       "    <tr style=\"text-align: right;\">\n",
       "      <th></th>\n",
       "      <th>Tweets</th>\n",
       "    </tr>\n",
       "  </thead>\n",
       "  <tbody>\n",
       "    <tr>\n",
       "      <th>0</th>\n",
       "      <td>RT @ICC: Congratulations to @PrithviShaw on re...</td>\n",
       "    </tr>\n",
       "    <tr>\n",
       "      <th>1</th>\n",
       "      <td>RT @pramz: Fifty on Test debut for Prithvi Sha...</td>\n",
       "    </tr>\n",
       "    <tr>\n",
       "      <th>2</th>\n",
       "      <td>RT @cricbuzz: Holder is understood to have sus...</td>\n",
       "    </tr>\n",
       "    <tr>\n",
       "      <th>3</th>\n",
       "      <td>@PrithviShaw bright future awaits you mam \\n#P...</td>\n",
       "    </tr>\n",
       "    <tr>\n",
       "      <th>4</th>\n",
       "      <td>CONGRATULATIONS!!\\n#PrithviShaw hits a brillia...</td>\n",
       "    </tr>\n",
       "    <tr>\n",
       "      <th>5</th>\n",
       "      <td>RT @cricketaakash: Day 1 - Here we go!\\n#lovem...</td>\n",
       "    </tr>\n",
       "    <tr>\n",
       "      <th>6</th>\n",
       "      <td>RT @BCCI: Test Cap No. 293: @PrithviShaw's dre...</td>\n",
       "    </tr>\n",
       "    <tr>\n",
       "      <th>7</th>\n",
       "      <td>RT @SampathStats: Geoff Parker (AUS U19 in 198...</td>\n",
       "    </tr>\n",
       "    <tr>\n",
       "      <th>8</th>\n",
       "      <td>Future of US-#Pakistan relations rests upon pr...</td>\n",
       "    </tr>\n",
       "    <tr>\n",
       "      <th>9</th>\n",
       "      <td>Holder’s absence a blow to visitors’ fast bowl...</td>\n",
       "    </tr>\n",
       "  </tbody>\n",
       "</table>\n",
       "</div>"
      ],
      "text/plain": [
       "                                              Tweets\n",
       "0  RT @ICC: Congratulations to @PrithviShaw on re...\n",
       "1  RT @pramz: Fifty on Test debut for Prithvi Sha...\n",
       "2  RT @cricbuzz: Holder is understood to have sus...\n",
       "3  @PrithviShaw bright future awaits you mam \\n#P...\n",
       "4  CONGRATULATIONS!!\\n#PrithviShaw hits a brillia...\n",
       "5  RT @cricketaakash: Day 1 - Here we go!\\n#lovem...\n",
       "6  RT @BCCI: Test Cap No. 293: @PrithviShaw's dre...\n",
       "7  RT @SampathStats: Geoff Parker (AUS U19 in 198...\n",
       "8  Future of US-#Pakistan relations rests upon pr...\n",
       "9  Holder’s absence a blow to visitors’ fast bowl..."
      ]
     },
     "metadata": {},
     "output_type": "display_data"
    }
   ],
   "source": [
    "# We create a pandas dataframe as follows:\n",
    "data = pd.DataFrame(data=[tweet.text for tweet in tweets], columns=['Tweets'])\n",
    "\n",
    "# We display the first 10 elements of the dataframe:\n",
    "display(data.head(10))"
   ]
  },
  {
   "cell_type": "code",
   "execution_count": 8,
   "metadata": {},
   "outputs": [
    {
     "name": "stdout",
     "output_type": "stream",
     "text": [
      "['__class__', '__delattr__', '__dict__', '__dir__', '__doc__', '__eq__', '__format__', '__ge__', '__getattribute__', '__getstate__', '__gt__', '__hash__', '__init__', '__le__', '__lt__', '__module__', '__ne__', '__new__', '__reduce__', '__reduce_ex__', '__repr__', '__setattr__', '__sizeof__', '__str__', '__subclasshook__', '__weakref__', '_api', '_json', 'author', 'contributors', 'coordinates', 'created_at', 'destroy', 'entities', 'extended_entities', 'favorite', 'favorite_count', 'favorited', 'geo', 'id', 'id_str', 'in_reply_to_screen_name', 'in_reply_to_status_id', 'in_reply_to_status_id_str', 'in_reply_to_user_id', 'in_reply_to_user_id_str', 'is_quote_status', 'lang', 'metadata', 'parse', 'parse_list', 'place', 'possibly_sensitive', 'retweet', 'retweet_count', 'retweeted', 'retweeted_status', 'retweets', 'source', 'source_url', 'text', 'truncated', 'user']\n"
     ]
    }
   ],
   "source": [
    "# Internal methods of a single tweet object:\n",
    "print(dir(tweets[0]))"
   ]
  },
  {
   "cell_type": "markdown",
   "metadata": {},
   "source": [
    "# Adding relevant info to our dataframe"
   ]
  },
  {
   "cell_type": "code",
   "execution_count": 9,
   "metadata": {},
   "outputs": [],
   "source": [
    "# We add relevant data:\n",
    "data['len']  = np.array([len(tweet.text) for tweet in tweets])\n",
    "data['ID']   = np.array([tweet.id for tweet in tweets])\n",
    "data['Date'] = np.array([tweet.created_at for tweet in tweets])\n",
    "data['Source'] = np.array([tweet.source for tweet in tweets])\n",
    "data['Likes']  = np.array([tweet.favorite_count for tweet in tweets])\n",
    "data['RTs']    = np.array([tweet.retweet_count for tweet in tweets])\n",
    "data['Language'] = np.array([tweet.lang for tweet in tweets])\n"
   ]
  },
  {
   "cell_type": "code",
   "execution_count": 10,
   "metadata": {},
   "outputs": [
    {
     "data": {
      "text/html": [
       "<div>\n",
       "<style scoped>\n",
       "    .dataframe tbody tr th:only-of-type {\n",
       "        vertical-align: middle;\n",
       "    }\n",
       "\n",
       "    .dataframe tbody tr th {\n",
       "        vertical-align: top;\n",
       "    }\n",
       "\n",
       "    .dataframe thead th {\n",
       "        text-align: right;\n",
       "    }\n",
       "</style>\n",
       "<table border=\"1\" class=\"dataframe\">\n",
       "  <thead>\n",
       "    <tr style=\"text-align: right;\">\n",
       "      <th></th>\n",
       "      <th>Tweets</th>\n",
       "      <th>len</th>\n",
       "      <th>ID</th>\n",
       "      <th>Date</th>\n",
       "      <th>Source</th>\n",
       "      <th>Likes</th>\n",
       "      <th>RTs</th>\n",
       "      <th>Language</th>\n",
       "    </tr>\n",
       "  </thead>\n",
       "  <tbody>\n",
       "    <tr>\n",
       "      <th>0</th>\n",
       "      <td>RT @ICC: Congratulations to @PrithviShaw on re...</td>\n",
       "      <td>132</td>\n",
       "      <td>1047738657518448641</td>\n",
       "      <td>2018-10-04 06:42:16</td>\n",
       "      <td>Twitter for Android</td>\n",
       "      <td>0</td>\n",
       "      <td>261</td>\n",
       "      <td>en</td>\n",
       "    </tr>\n",
       "    <tr>\n",
       "      <th>1</th>\n",
       "      <td>RT @pramz: Fifty on Test debut for Prithvi Sha...</td>\n",
       "      <td>73</td>\n",
       "      <td>1047738654305615872</td>\n",
       "      <td>2018-10-04 06:42:15</td>\n",
       "      <td>Twitter for Android</td>\n",
       "      <td>0</td>\n",
       "      <td>1</td>\n",
       "      <td>en</td>\n",
       "    </tr>\n",
       "    <tr>\n",
       "      <th>2</th>\n",
       "      <td>RT @cricbuzz: Holder is understood to have sus...</td>\n",
       "      <td>140</td>\n",
       "      <td>1047738653810688000</td>\n",
       "      <td>2018-10-04 06:42:15</td>\n",
       "      <td>Twitter for Android</td>\n",
       "      <td>0</td>\n",
       "      <td>5</td>\n",
       "      <td>en</td>\n",
       "    </tr>\n",
       "    <tr>\n",
       "      <th>3</th>\n",
       "      <td>@PrithviShaw bright future awaits you mam \\n#P...</td>\n",
       "      <td>64</td>\n",
       "      <td>1047738651898204160</td>\n",
       "      <td>2018-10-04 06:42:15</td>\n",
       "      <td>Twitter for Android</td>\n",
       "      <td>1</td>\n",
       "      <td>0</td>\n",
       "      <td>en</td>\n",
       "    </tr>\n",
       "    <tr>\n",
       "      <th>4</th>\n",
       "      <td>CONGRATULATIONS!!\\n#PrithviShaw hits a brillia...</td>\n",
       "      <td>103</td>\n",
       "      <td>1047738649570410501</td>\n",
       "      <td>2018-10-04 06:42:14</td>\n",
       "      <td>Twitter for Android</td>\n",
       "      <td>0</td>\n",
       "      <td>0</td>\n",
       "      <td>en</td>\n",
       "    </tr>\n",
       "    <tr>\n",
       "      <th>5</th>\n",
       "      <td>RT @cricketaakash: Day 1 - Here we go!\\n#lovem...</td>\n",
       "      <td>140</td>\n",
       "      <td>1047738644084056064</td>\n",
       "      <td>2018-10-04 06:42:13</td>\n",
       "      <td>Twitter for Android</td>\n",
       "      <td>0</td>\n",
       "      <td>9</td>\n",
       "      <td>en</td>\n",
       "    </tr>\n",
       "    <tr>\n",
       "      <th>6</th>\n",
       "      <td>RT @BCCI: Test Cap No. 293: @PrithviShaw's dre...</td>\n",
       "      <td>100</td>\n",
       "      <td>1047738641206923264</td>\n",
       "      <td>2018-10-04 06:42:12</td>\n",
       "      <td>Twitter for Android</td>\n",
       "      <td>0</td>\n",
       "      <td>491</td>\n",
       "      <td>en</td>\n",
       "    </tr>\n",
       "    <tr>\n",
       "      <th>7</th>\n",
       "      <td>RT @SampathStats: Geoff Parker (AUS U19 in 198...</td>\n",
       "      <td>140</td>\n",
       "      <td>1047738640837701632</td>\n",
       "      <td>2018-10-04 06:42:12</td>\n",
       "      <td>Twitter Lite</td>\n",
       "      <td>0</td>\n",
       "      <td>21</td>\n",
       "      <td>en</td>\n",
       "    </tr>\n",
       "    <tr>\n",
       "      <th>8</th>\n",
       "      <td>Future of US-#Pakistan relations rests upon pr...</td>\n",
       "      <td>136</td>\n",
       "      <td>1047738640116469760</td>\n",
       "      <td>2018-10-04 06:42:12</td>\n",
       "      <td>Twitter Web Client</td>\n",
       "      <td>0</td>\n",
       "      <td>0</td>\n",
       "      <td>en</td>\n",
       "    </tr>\n",
       "    <tr>\n",
       "      <th>9</th>\n",
       "      <td>Holder’s absence a blow to visitors’ fast bowl...</td>\n",
       "      <td>82</td>\n",
       "      <td>1047738638539350016</td>\n",
       "      <td>2018-10-04 06:42:12</td>\n",
       "      <td>IFTTT</td>\n",
       "      <td>0</td>\n",
       "      <td>0</td>\n",
       "      <td>en</td>\n",
       "    </tr>\n",
       "  </tbody>\n",
       "</table>\n",
       "</div>"
      ],
      "text/plain": [
       "                                              Tweets  len  \\\n",
       "0  RT @ICC: Congratulations to @PrithviShaw on re...  132   \n",
       "1  RT @pramz: Fifty on Test debut for Prithvi Sha...   73   \n",
       "2  RT @cricbuzz: Holder is understood to have sus...  140   \n",
       "3  @PrithviShaw bright future awaits you mam \\n#P...   64   \n",
       "4  CONGRATULATIONS!!\\n#PrithviShaw hits a brillia...  103   \n",
       "5  RT @cricketaakash: Day 1 - Here we go!\\n#lovem...  140   \n",
       "6  RT @BCCI: Test Cap No. 293: @PrithviShaw's dre...  100   \n",
       "7  RT @SampathStats: Geoff Parker (AUS U19 in 198...  140   \n",
       "8  Future of US-#Pakistan relations rests upon pr...  136   \n",
       "9  Holder’s absence a blow to visitors’ fast bowl...   82   \n",
       "\n",
       "                    ID                Date               Source  Likes  RTs  \\\n",
       "0  1047738657518448641 2018-10-04 06:42:16  Twitter for Android      0  261   \n",
       "1  1047738654305615872 2018-10-04 06:42:15  Twitter for Android      0    1   \n",
       "2  1047738653810688000 2018-10-04 06:42:15  Twitter for Android      0    5   \n",
       "3  1047738651898204160 2018-10-04 06:42:15  Twitter for Android      1    0   \n",
       "4  1047738649570410501 2018-10-04 06:42:14  Twitter for Android      0    0   \n",
       "5  1047738644084056064 2018-10-04 06:42:13  Twitter for Android      0    9   \n",
       "6  1047738641206923264 2018-10-04 06:42:12  Twitter for Android      0  491   \n",
       "7  1047738640837701632 2018-10-04 06:42:12         Twitter Lite      0   21   \n",
       "8  1047738640116469760 2018-10-04 06:42:12   Twitter Web Client      0    0   \n",
       "9  1047738638539350016 2018-10-04 06:42:12                IFTTT      0    0   \n",
       "\n",
       "  Language  \n",
       "0       en  \n",
       "1       en  \n",
       "2       en  \n",
       "3       en  \n",
       "4       en  \n",
       "5       en  \n",
       "6       en  \n",
       "7       en  \n",
       "8       en  \n",
       "9       en  "
      ]
     },
     "metadata": {},
     "output_type": "display_data"
    }
   ],
   "source": [
    "# Display of first 10 elements from dataframe:\n",
    "display(data.head(10))"
   ]
  },
  {
   "cell_type": "code",
   "execution_count": 11,
   "metadata": {},
   "outputs": [
    {
     "name": "stdout",
     "output_type": "stream",
     "text": [
      "The lenght's average in tweets: 119.83\n"
     ]
    }
   ],
   "source": [
    "# We extract the mean of lenghts:\n",
    "mean = np.mean(data['len'])\n",
    "\n",
    "print(\"The lenght's average in tweets: {}\".format(mean))"
   ]
  },
  {
   "cell_type": "code",
   "execution_count": 12,
   "metadata": {},
   "outputs": [
    {
     "data": {
      "text/plain": [
       "<matplotlib.axes._subplots.AxesSubplot at 0x1a0adbebe0>"
      ]
     },
     "execution_count": 12,
     "metadata": {},
     "output_type": "execute_result"
    },
    {
     "data": {
      "image/png": "[encoded data removed]",
      "text/plain": [
       "<Figure size 432x288 with 1 Axes>"
      ]
     },
     "metadata": {},
     "output_type": "display_data"
    }
   ],
   "source": [
    "tweets_by_lang = data['Language'].value_counts()\n",
    "\n",
    "fig, ax = plt.subplots()\n",
    "ax.tick_params(axis='x', labelsize=15)\n",
    "ax.tick_params(axis='y', labelsize=10)\n",
    "ax.set_xlabel('Languages', fontsize=15)\n",
    "ax.set_ylabel('Number of tweets' , fontsize=15)\n",
    "ax.set_title('Top 5 languages', fontsize=15, fontweight='bold')\n",
    "tweets_by_lang[:5].plot(ax=ax, kind='bar', color='red')"
   ]
  },
  {
   "cell_type": "code",
   "execution_count": 13,
   "metadata": {},
   "outputs": [
    {
     "name": "stdout",
     "output_type": "stream",
     "text": [
      "The tweet with more likes is: \n",
      "Before Rajkot, the last time West Indies played a Test in India, Sachin Tendulkar bowed out of international cricke… https://t.co/olYilH49cx\n",
      "Number of likes: 33\n",
      "140 characters.\n",
      "\n",
      "The tweet with more retweets is: \n",
      "RT @BCCI: Test Cap No. 293: @PrithviShaw's dream come true moment 🙌\n",
      "\n",
      "#INDvWI https://t.co/cPMiR1tLwW\n",
      "Number of retweets: 491\n",
      "100 characters.\n",
      "\n"
     ]
    }
   ],
   "source": [
    "# We extract the tweet with more FAVs and more RTs:\n",
    "\n",
    "fav_max = np.max(data['Likes'])\n",
    "rt_max  = np.max(data['RTs'])\n",
    "\n",
    "fav = data[data.Likes == fav_max].index[0]\n",
    "rt  = data[data.RTs == rt_max].index[0]\n",
    "\n",
    "# Max FAVs:\n",
    "print(\"The tweet with more likes is: \\n{}\".format(data['Tweets'][fav]))\n",
    "print(\"Number of likes: {}\".format(fav_max))\n",
    "print(\"{} characters.\\n\".format(data['len'][fav]))\n",
    "\n",
    "# Max RTs:\n",
    "print(\"The tweet with more retweets is: \\n{}\".format(data['Tweets'][rt]))\n",
    "print(\"Number of retweets: {}\".format(rt_max))\n",
    "print(\"{} characters.\\n\".format(data['len'][rt]))"
   ]
  },
  {
   "cell_type": "markdown",
   "metadata": {},
   "source": [
    "# Time series of Tweets"
   ]
  },
  {
   "cell_type": "code",
   "execution_count": 14,
   "metadata": {},
   "outputs": [],
   "source": [
    "# We create time series for data:\n",
    "\n",
    "tlen = pd.Series(data=data['len'].values, index=data['Date'])\n",
    "tfav = pd.Series(data=data['Likes'].values, index=data['Date'])\n",
    "tret = pd.Series(data=data['RTs'].values, index=data['Date'])"
   ]
  },
  {
   "cell_type": "code",
   "execution_count": 15,
   "metadata": {},
   "outputs": [
    {
     "data": {
      "image/png": "[encoded data removed]",
      "text/plain": [
       "<Figure size 1152x288 with 1 Axes>"
      ]
     },
     "metadata": {},
     "output_type": "display_data"
    }
   ],
   "source": [
    "# Lenghts along time:\n",
    "tlen.plot(figsize=(16,4), color='r');"
   ]
  },
  {
   "cell_type": "code",
   "execution_count": 16,
   "metadata": {},
   "outputs": [
    {
     "data": {
      "image/png": "[encoded data removed]",
      "text/plain": [
       "<Figure size 1152x288 with 1 Axes>"
      ]
     },
     "metadata": {},
     "output_type": "display_data"
    }
   ],
   "source": [
    "# Likes vs retweets visualization:\n",
    "tfav.plot(figsize=(16,4), label=\"Likes\", legend=True)\n",
    "tret.plot(figsize=(16,4), label=\"Retweets\", legend=True);"
   ]
  },
  {
   "cell_type": "markdown",
   "metadata": {},
   "source": [
    "# Pie charts of sources"
   ]
  },
  {
   "cell_type": "code",
   "execution_count": 17,
   "metadata": {},
   "outputs": [
    {
     "name": "stdout",
     "output_type": "stream",
     "text": [
      "Creation of content sources:\n",
      "* Twitter for Android\n",
      "* Twitter Lite\n",
      "* Twitter Web Client\n",
      "* IFTTT\n",
      "* Twitter for iPhone\n",
      "* CW Live Cricket Scores\n",
      "* CricketKhabarLive\n",
      "* CricketNDTVLive\n",
      "* Nikkusharma\n",
      "* TweetDeck\n"
     ]
    }
   ],
   "source": [
    "# We obtain all possible sources:\n",
    "sources = []\n",
    "for source in data['Source']:\n",
    "    if source not in sources:\n",
    "        sources.append(source)\n",
    "\n",
    "# We print sources list:\n",
    "print(\"Creation of content sources:\")\n",
    "for source in sources:\n",
    "    print(\"* {}\".format(source))"
   ]
  },
  {
   "cell_type": "code",
   "execution_count": 18,
   "metadata": {},
   "outputs": [
    {
     "data": {
      "image/png": "[encoded data removed]",
      "text/plain": [
       "<Figure size 720x576 with 1 Axes>"
      ]
     },
     "metadata": {},
     "output_type": "display_data"
    }
   ],
   "source": [
    "# We create a numpy vector mapped to labels:\n",
    "percent = np.zeros(len(sources))\n",
    "\n",
    "for source in data['Source']:\n",
    "    for index in range(len(sources)):\n",
    "        if source == sources[index]:\n",
    "            percent[index] += 1\n",
    "            pass\n",
    "\n",
    "percent /= 100\n",
    "\n",
    "# Pie chart:\n",
    "pie_chart = pd.Series(percent, index=sources, name='Sources')\n",
    "pie_chart.plot.pie(fontsize=11, autopct='%.2f', figsize=(10,8));"
   ]
  },
  {
   "cell_type": "markdown",
   "metadata": {},
   "source": [
    "# Sentiment analysis"
   ]
  },
  {
   "cell_type": "code",
   "execution_count": 19,
   "metadata": {},
   "outputs": [],
   "source": [
    "from textblob import TextBlob\n",
    "import re\n",
    "\n",
    "def clean_tweet(tweet):\n",
    "    '''\n",
    "    Utility function to clean the text in a tweet by removing \n",
    "    links and special characters using regex.\n",
    "    '''\n",
    "    return ' '.join(re.sub(\"(@[A-Za-z0-9]+)|([^0-9A-Za-z \\t])|(\\w+:\\/\\/\\S+)\", \" \", tweet).split())\n",
    "\n",
    "def analize_sentiment(tweet):\n",
    "    '''\n",
    "    Utility function to classify the polarity of a tweet\n",
    "    using textblob.\n",
    "    '''\n",
    "    analysis = TextBlob(clean_tweet(tweet))\n",
    "    if analysis.sentiment.polarity > 0:\n",
    "        return 1\n",
    "    elif analysis.sentiment.polarity == 0:\n",
    "        return 0\n",
    "    else:\n",
    "        return -1"
   ]
  },
  {
   "cell_type": "code",
   "execution_count": 20,
   "metadata": {},
   "outputs": [
    {
     "data": {
      "text/html": [
       "<div>\n",
       "<style scoped>\n",
       "    .dataframe tbody tr th:only-of-type {\n",
       "        vertical-align: middle;\n",
       "    }\n",
       "\n",
       "    .dataframe tbody tr th {\n",
       "        vertical-align: top;\n",
       "    }\n",
       "\n",
       "    .dataframe thead th {\n",
       "        text-align: right;\n",
       "    }\n",
       "</style>\n",
       "<table border=\"1\" class=\"dataframe\">\n",
       "  <thead>\n",
       "    <tr style=\"text-align: right;\">\n",
       "      <th></th>\n",
       "      <th>Tweets</th>\n",
       "      <th>len</th>\n",
       "      <th>ID</th>\n",
       "      <th>Date</th>\n",
       "      <th>Source</th>\n",
       "      <th>Likes</th>\n",
       "      <th>RTs</th>\n",
       "      <th>Language</th>\n",
       "      <th>SA</th>\n",
       "    </tr>\n",
       "  </thead>\n",
       "  <tbody>\n",
       "    <tr>\n",
       "      <th>0</th>\n",
       "      <td>RT @ICC: Congratulations to @PrithviShaw on re...</td>\n",
       "      <td>132</td>\n",
       "      <td>1047738657518448641</td>\n",
       "      <td>2018-10-04 06:42:16</td>\n",
       "      <td>Twitter for Android</td>\n",
       "      <td>0</td>\n",
       "      <td>261</td>\n",
       "      <td>en</td>\n",
       "      <td>1</td>\n",
       "    </tr>\n",
       "    <tr>\n",
       "      <th>1</th>\n",
       "      <td>RT @pramz: Fifty on Test debut for Prithvi Sha...</td>\n",
       "      <td>73</td>\n",
       "      <td>1047738654305615872</td>\n",
       "      <td>2018-10-04 06:42:15</td>\n",
       "      <td>Twitter for Android</td>\n",
       "      <td>0</td>\n",
       "      <td>1</td>\n",
       "      <td>en</td>\n",
       "      <td>1</td>\n",
       "    </tr>\n",
       "    <tr>\n",
       "      <th>2</th>\n",
       "      <td>RT @cricbuzz: Holder is understood to have sus...</td>\n",
       "      <td>140</td>\n",
       "      <td>1047738653810688000</td>\n",
       "      <td>2018-10-04 06:42:15</td>\n",
       "      <td>Twitter for Android</td>\n",
       "      <td>0</td>\n",
       "      <td>5</td>\n",
       "      <td>en</td>\n",
       "      <td>0</td>\n",
       "    </tr>\n",
       "    <tr>\n",
       "      <th>3</th>\n",
       "      <td>@PrithviShaw bright future awaits you mam \\n#P...</td>\n",
       "      <td>64</td>\n",
       "      <td>1047738651898204160</td>\n",
       "      <td>2018-10-04 06:42:15</td>\n",
       "      <td>Twitter for Android</td>\n",
       "      <td>1</td>\n",
       "      <td>0</td>\n",
       "      <td>en</td>\n",
       "      <td>1</td>\n",
       "    </tr>\n",
       "    <tr>\n",
       "      <th>4</th>\n",
       "      <td>CONGRATULATIONS!!\\n#PrithviShaw hits a brillia...</td>\n",
       "      <td>103</td>\n",
       "      <td>1047738649570410501</td>\n",
       "      <td>2018-10-04 06:42:14</td>\n",
       "      <td>Twitter for Android</td>\n",
       "      <td>0</td>\n",
       "      <td>0</td>\n",
       "      <td>en</td>\n",
       "      <td>1</td>\n",
       "    </tr>\n",
       "    <tr>\n",
       "      <th>5</th>\n",
       "      <td>RT @cricketaakash: Day 1 - Here we go!\\n#lovem...</td>\n",
       "      <td>140</td>\n",
       "      <td>1047738644084056064</td>\n",
       "      <td>2018-10-04 06:42:13</td>\n",
       "      <td>Twitter for Android</td>\n",
       "      <td>0</td>\n",
       "      <td>9</td>\n",
       "      <td>en</td>\n",
       "      <td>0</td>\n",
       "    </tr>\n",
       "    <tr>\n",
       "      <th>6</th>\n",
       "      <td>RT @BCCI: Test Cap No. 293: @PrithviShaw's dre...</td>\n",
       "      <td>100</td>\n",
       "      <td>1047738641206923264</td>\n",
       "      <td>2018-10-04 06:42:12</td>\n",
       "      <td>Twitter for Android</td>\n",
       "      <td>0</td>\n",
       "      <td>491</td>\n",
       "      <td>en</td>\n",
       "      <td>1</td>\n",
       "    </tr>\n",
       "    <tr>\n",
       "      <th>7</th>\n",
       "      <td>RT @SampathStats: Geoff Parker (AUS U19 in 198...</td>\n",
       "      <td>140</td>\n",
       "      <td>1047738640837701632</td>\n",
       "      <td>2018-10-04 06:42:12</td>\n",
       "      <td>Twitter Lite</td>\n",
       "      <td>0</td>\n",
       "      <td>21</td>\n",
       "      <td>en</td>\n",
       "      <td>1</td>\n",
       "    </tr>\n",
       "    <tr>\n",
       "      <th>8</th>\n",
       "      <td>Future of US-#Pakistan relations rests upon pr...</td>\n",
       "      <td>136</td>\n",
       "      <td>1047738640116469760</td>\n",
       "      <td>2018-10-04 06:42:12</td>\n",
       "      <td>Twitter Web Client</td>\n",
       "      <td>0</td>\n",
       "      <td>0</td>\n",
       "      <td>en</td>\n",
       "      <td>0</td>\n",
       "    </tr>\n",
       "    <tr>\n",
       "      <th>9</th>\n",
       "      <td>Holder’s absence a blow to visitors’ fast bowl...</td>\n",
       "      <td>82</td>\n",
       "      <td>1047738638539350016</td>\n",
       "      <td>2018-10-04 06:42:12</td>\n",
       "      <td>IFTTT</td>\n",
       "      <td>0</td>\n",
       "      <td>0</td>\n",
       "      <td>en</td>\n",
       "      <td>1</td>\n",
       "    </tr>\n",
       "  </tbody>\n",
       "</table>\n",
       "</div>"
      ],
      "text/plain": [
       "                                              Tweets  len  \\\n",
       "0  RT @ICC: Congratulations to @PrithviShaw on re...  132   \n",
       "1  RT @pramz: Fifty on Test debut for Prithvi Sha...   73   \n",
       "2  RT @cricbuzz: Holder is understood to have sus...  140   \n",
       "3  @PrithviShaw bright future awaits you mam \\n#P...   64   \n",
       "4  CONGRATULATIONS!!\\n#PrithviShaw hits a brillia...  103   \n",
       "5  RT @cricketaakash: Day 1 - Here we go!\\n#lovem...  140   \n",
       "6  RT @BCCI: Test Cap No. 293: @PrithviShaw's dre...  100   \n",
       "7  RT @SampathStats: Geoff Parker (AUS U19 in 198...  140   \n",
       "8  Future of US-#Pakistan relations rests upon pr...  136   \n",
       "9  Holder’s absence a blow to visitors’ fast bowl...   82   \n",
       "\n",
       "                    ID                Date               Source  Likes  RTs  \\\n",
       "0  1047738657518448641 2018-10-04 06:42:16  Twitter for Android      0  261   \n",
       "1  1047738654305615872 2018-10-04 06:42:15  Twitter for Android      0    1   \n",
       "2  1047738653810688000 2018-10-04 06:42:15  Twitter for Android      0    5   \n",
       "3  1047738651898204160 2018-10-04 06:42:15  Twitter for Android      1    0   \n",
       "4  1047738649570410501 2018-10-04 06:42:14  Twitter for Android      0    0   \n",
       "5  1047738644084056064 2018-10-04 06:42:13  Twitter for Android      0    9   \n",
       "6  1047738641206923264 2018-10-04 06:42:12  Twitter for Android      0  491   \n",
       "7  1047738640837701632 2018-10-04 06:42:12         Twitter Lite      0   21   \n",
       "8  1047738640116469760 2018-10-04 06:42:12   Twitter Web Client      0    0   \n",
       "9  1047738638539350016 2018-10-04 06:42:12                IFTTT      0    0   \n",
       "\n",
       "  Language  SA  \n",
       "0       en   1  \n",
       "1       en   1  \n",
       "2       en   0  \n",
       "3       en   1  \n",
       "4       en   1  \n",
       "5       en   0  \n",
       "6       en   1  \n",
       "7       en   1  \n",
       "8       en   0  \n",
       "9       en   1  "
      ]
     },
     "metadata": {},
     "output_type": "display_data"
    }
   ],
   "source": [
    "# We create a column with the result of the analysis:\n",
    "data['SA'] = np.array([ analize_sentiment(tweet) for tweet in data['Tweets'] ])\n",
    "\n",
    "# We display the updated dataframe with the new column:\n",
    "display(data.head(10))"
   ]
  },
  {
   "cell_type": "code",
   "execution_count": 21,
   "metadata": {},
   "outputs": [],
   "source": [
    "# We construct lists with classified tweets:\n",
    "\n",
    "pos_tweets = [ tweet for index, tweet in enumerate(data['Tweets']) if data['SA'][index] > 0]\n",
    "neu_tweets = [ tweet for index, tweet in enumerate(data['Tweets']) if data['SA'][index] == 0]\n",
    "neg_tweets = [ tweet for index, tweet in enumerate(data['Tweets']) if data['SA'][index] < 0]"
   ]
  },
  {
   "cell_type": "code",
   "execution_count": 22,
   "metadata": {},
   "outputs": [
    {
     "name": "stdout",
     "output_type": "stream",
     "text": [
      "Percentage of positive tweets: 32.0%\n",
      "Percentage of neutral tweets: 61.0%\n",
      "Percentage of negative tweets: 7.0%\n"
     ]
    }
   ],
   "source": [
    "# We print percentages:\n",
    "\n",
    "print(\"Percentage of positive tweets: {}%\".format(len(pos_tweets)*100/len(data['Tweets'])))\n",
    "print(\"Percentage of neutral tweets: {}%\".format(len(neu_tweets)*100/len(data['Tweets'])))\n",
    "print(\"Percentage of negative tweets: {}%\".format(len(neg_tweets)*100/len(data['Tweets'])))"
   ]
  },
  {
   "cell_type": "code",
   "execution_count": 23,
   "metadata": {},
   "outputs": [
    {
     "data": {
      "image/png": "[encoded data removed]",
      "text/plain": [
       "<Figure size 720x432 with 1 Axes>"
      ]
     },
     "metadata": {},
     "output_type": "display_data"
    }
   ],
   "source": [
    "\n",
    "# Data to plot\n",
    "labels = 'Positive Tweets', 'Neutral Tweets','Negative Tweets'\n",
    "sizes = [len(pos_tweets)*100/len(data['Tweets']), len(neu_tweets)*100/len(data['Tweets']), len(neg_tweets)*100/len(data['Tweets'])]\n",
    "colors = ['gold', 'yellowgreen', 'lightcoral']\n",
    "explode = (0.07, 0.07, 0.07)  # explode 1st slice\n",
    " \n",
    "# Plot\n",
    "plt.figure(figsize=(10,6))\n",
    "plt.pie(sizes, explode=explode, labels=labels, colors=colors,\n",
    "        autopct='%1.1f%%', shadow=True, startangle=140)\n",
    "plt.axis('equal')\n",
    "plt.show()"
   ]
  },
  {
   "cell_type": "code",
   "execution_count": null,
   "metadata": {},
   "outputs": [],
   "source": []
  }
 ],
 "metadata": {
  "kernelspec": {
   "display_name": "Python 3",
   "language": "python",
   "name": "python3"
  },
  "language_info": {
   "codemirror_mode": {
    "name": "ipython",
    "version": 3
   },
   "file_extension": ".py",
   "mimetype": "text/x-python",
   "name": "python",
   "nbconvert_exporter": "python",
   "pygments_lexer": "ipython3",
   "version": "3.5.5"
  }
 },
 "nbformat": 4,
 "nbformat_minor": 2
}
